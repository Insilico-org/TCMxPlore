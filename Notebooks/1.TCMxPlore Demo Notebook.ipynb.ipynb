{
 "cells": [
  {
   "cell_type": "markdown",
   "id": "dd524530",
   "metadata": {},
   "source": [
    "# TCMxPlore:\n",
    "## discovering anti-aging TCM formulas with bioinformatics and generative AI\n",
    "\n",
    "This notebook will walk you through key functions of TCMxPlore. You will start with a list of aging-related genes obtained from a generative biology model [Precious3GPT](https://github.com/insilicomedicine/precious3-gpt/tree/main), then screen natural compounds recorded in [BATMAN-TCM2](https://doi.org/10.57967/hf/3314) to select the molecules that interact with these targets. Finally, you will find TCM herbs and formulas that contain the compounds and read more about their properties in the context of TCM practice."
   ]
  },
  {
   "cell_type": "markdown",
   "id": "dd089f24",
   "metadata": {},
   "source": [
    "Firstly, install TCMxPlore and import the `connector` module.\n",
    "It will allow you to download, parse, and cross-reference TCM entities, such as molecular targets, ingredients, herbs, formulas, and conditions."
   ]
  },
  {
   "cell_type": "code",
   "execution_count": 1,
   "id": "7207c474",
   "metadata": {},
   "outputs": [],
   "source": [
    "from connector import connector\n",
    "\n",
    "import pickle, json\n",
    "import pandas as pd\n",
    "from itertools import product"
   ]
  },
  {
   "cell_type": "markdown",
   "id": "9238eb17",
   "metadata": {},
   "source": [
    "`BatmanDragonConnector` in particular will download and unpack Hugging Face datasets you need.\n",
    "Depending on your Internet speed, pre-processing can take some time."
   ]
  },
  {
   "cell_type": "code",
   "execution_count": 2,
   "id": "2a7c3f9a",
   "metadata": {},
   "outputs": [
    {
     "name": "stdout",
     "output_type": "stream",
     "text": [
      "📂 Accessing HuggingFace repository...\n",
      "✅ Connector for BATMAN-TCM2 and DragonTCM has been loaded\n",
      "Start processing individual databases:\n",
      "Adding cross mappings\n",
      "Done adding cross mappings\n",
      "Adding equivalents\n",
      "Done adding equivalents\n",
      "Loading DB: BATMAN\n",
      "⚠️ Loading this dataset usually takes ~3-5 minutes.\n",
      "⏳ Downloading compressed database file from HuggingFace...\n",
      "📂 Database file downloaded, now decompressing and loading...\n",
      "✅ JSON file has been read!\n",
      "Loading the DB into memory...\n",
      "✅ Database has been loaded successfully!\n",
      "Uploaded DB: BATMAN\n",
      "Loading DB: American Dragon\n",
      "Added 1044 herbs\n",
      "Added 1119 conditions\n",
      "Added 2580 formulas\n",
      "Uploaded DB: American Dragon\n",
      "Adding word maps\n",
      "Done adding word maps\n",
      "from_huggingface execution time: 51.90 seconds\n"
     ]
    }
   ],
   "source": [
    "con = connector.BatmanDragonConnector.from_huggingface()"
   ]
  },
  {
   "cell_type": "markdown",
   "id": "28aa1016",
   "metadata": {},
   "source": [
    "You can access and work within idndividual TCM databases stored in the connector."
   ]
  },
  {
   "cell_type": "code",
   "execution_count": 3,
   "id": "58102a9f",
   "metadata": {},
   "outputs": [],
   "source": [
    "batman_db = con.dbs['BATMAN']\n",
    "dragon_db = con.dbs['American Dragon']"
   ]
  },
  {
   "cell_type": "markdown",
   "id": "c68ead09",
   "metadata": {},
   "source": [
    "Now, load the files that will serve as the foundation of our TCM exploration:\n",
    "- `aging_signatures.txt` — species- and tissue-specific signatures of aging. Basically, lists with top-100 genes that are upregulated in older age groups, as assessed by the Precious3GPT AI model;\n",
    "- `P3GPT_compound_targets.pckl` — list of compounds that are featured in both Precious3GPT and BATMAN-TCM2, natural compounds whose effect on gene expression may be estimated using generative AI; "
   ]
  },
  {
   "cell_type": "code",
   "execution_count": 4,
   "id": "60009b6e",
   "metadata": {},
   "outputs": [],
   "source": [
    "p_signs = './materials/aging_signatures.txt'\n",
    "p_cpd_filter = \"./materials/P3GPT_compound_targets.pckl\"\n",
    "\n",
    "with open(p_cpd_filter, \"rb\") as f:\n",
    "    cpd_filter = pickle.load(f)\n",
    "results = pd.read_csv(p_signs, sep='\\t', index_col=None, header=0)"
   ]
  },
  {
   "cell_type": "code",
   "execution_count": 5,
   "id": "15af6c63",
   "metadata": {},
   "outputs": [
    {
     "data": {
      "text/html": [
       "<div>\n",
       "<style scoped>\n",
       "    .dataframe tbody tr th:only-of-type {\n",
       "        vertical-align: middle;\n",
       "    }\n",
       "\n",
       "    .dataframe tbody tr th {\n",
       "        vertical-align: top;\n",
       "    }\n",
       "\n",
       "    .dataframe thead th {\n",
       "        text-align: right;\n",
       "    }\n",
       "</style>\n",
       "<table border=\"1\" class=\"dataframe\">\n",
       "  <thead>\n",
       "    <tr style=\"text-align: right;\">\n",
       "      <th></th>\n",
       "      <th>tissue</th>\n",
       "      <th>dataset_type</th>\n",
       "      <th>species</th>\n",
       "      <th>control</th>\n",
       "      <th>case</th>\n",
       "      <th>direction</th>\n",
       "      <th>hallmarks</th>\n",
       "    </tr>\n",
       "  </thead>\n",
       "  <tbody>\n",
       "    <tr>\n",
       "      <th>0</th>\n",
       "      <td>skin</td>\n",
       "      <td>methylation</td>\n",
       "      <td>mouse</td>\n",
       "      <td>Mouse-19.95-30</td>\n",
       "      <td>Mouse-350-400</td>\n",
       "      <td>up</td>\n",
       "      <td>LOC100270710;GABRP;KRTAP5-7;IL2RG;CSMD2;IL1RL2...</td>\n",
       "    </tr>\n",
       "    <tr>\n",
       "      <th>1</th>\n",
       "      <td>skin</td>\n",
       "      <td>methylation</td>\n",
       "      <td>human</td>\n",
       "      <td>19.95-25.0</td>\n",
       "      <td>70.0-80.0</td>\n",
       "      <td>up</td>\n",
       "      <td>C11orf90;LPAR1;LOC100270710;BANF2;LOR;MYF6;OBP...</td>\n",
       "    </tr>\n",
       "    <tr>\n",
       "      <th>2</th>\n",
       "      <td>skin</td>\n",
       "      <td>expression</td>\n",
       "      <td>mouse</td>\n",
       "      <td>Mouse-19.95-30</td>\n",
       "      <td>Mouse-350-400</td>\n",
       "      <td>up</td>\n",
       "      <td>UTY;CD1A;AKR1C4;PLEKHG1;CALCRL;SLC22A7;SLC17A7...</td>\n",
       "    </tr>\n",
       "    <tr>\n",
       "      <th>3</th>\n",
       "      <td>skin</td>\n",
       "      <td>expression</td>\n",
       "      <td>human</td>\n",
       "      <td>19.95-25.0</td>\n",
       "      <td>70.0-80.0</td>\n",
       "      <td>up</td>\n",
       "      <td>SLC1A1;KRT15;BBOX1;CYP2B6;KDM5D;SELENOP;UTY;CD...</td>\n",
       "    </tr>\n",
       "    <tr>\n",
       "      <th>4</th>\n",
       "      <td>liver</td>\n",
       "      <td>methylation</td>\n",
       "      <td>mouse</td>\n",
       "      <td>Mouse-19.95-30</td>\n",
       "      <td>Mouse-350-400</td>\n",
       "      <td>up</td>\n",
       "      <td>CD101;PM20D1;NAPSB;PCDH12;LOC100132724;NRG4;LR...</td>\n",
       "    </tr>\n",
       "  </tbody>\n",
       "</table>\n",
       "</div>"
      ],
      "text/plain": [
       "  tissue dataset_type species         control           case direction  \\\n",
       "0   skin  methylation   mouse  Mouse-19.95-30  Mouse-350-400        up   \n",
       "1   skin  methylation   human      19.95-25.0      70.0-80.0        up   \n",
       "2   skin   expression   mouse  Mouse-19.95-30  Mouse-350-400        up   \n",
       "3   skin   expression   human      19.95-25.0      70.0-80.0        up   \n",
       "4  liver  methylation   mouse  Mouse-19.95-30  Mouse-350-400        up   \n",
       "\n",
       "                                           hallmarks  \n",
       "0  LOC100270710;GABRP;KRTAP5-7;IL2RG;CSMD2;IL1RL2...  \n",
       "1  C11orf90;LPAR1;LOC100270710;BANF2;LOR;MYF6;OBP...  \n",
       "2  UTY;CD1A;AKR1C4;PLEKHG1;CALCRL;SLC22A7;SLC17A7...  \n",
       "3  SLC1A1;KRT15;BBOX1;CYP2B6;KDM5D;SELENOP;UTY;CD...  \n",
       "4  CD101;PM20D1;NAPSB;PCDH12;LOC100132724;NRG4;LR...  "
      ]
     },
     "execution_count": 5,
     "metadata": {},
     "output_type": "execute_result"
    }
   ],
   "source": [
    "results.head()"
   ]
  },
  {
   "cell_type": "code",
   "execution_count": 6,
   "id": "8f7f48a2",
   "metadata": {},
   "outputs": [
    {
     "data": {
      "text/plain": [
       "659"
      ]
     },
     "execution_count": 6,
     "metadata": {},
     "output_type": "execute_result"
    }
   ],
   "source": [
    "len(cpd_filter)"
   ]
  },
  {
   "cell_type": "markdown",
   "id": "06e16ba7",
   "metadata": {},
   "source": [
    "📝 We advise you to check out this [library](https://github.com/insilicomedicine/precious3-gpt) that we used to generate the aging signatures shown above.\n",
    "It is not necessary to work with this notebook, but many functions, such as gene list intersection and pathway enrichment, are handled much more easily within `precious3gpt`."
   ]
  },
  {
   "cell_type": "markdown",
   "id": "e01c8b2d",
   "metadata": {},
   "source": [
    "## Using cross-species aging halmarks to select TCM formulas\n",
    "We will define genes to be target with TCM herbs as genes that appear in both human and murine aging signatures. "
   ]
  },
  {
   "cell_type": "code",
   "execution_count": 7,
   "id": "bfc8a3c8",
   "metadata": {},
   "outputs": [],
   "source": [
    "params = {\"tissue\": ['liver', 'muscle', 'lung'],\n",
    "          \"dataset_type\": ['expression'],\n",
    "          \"species\": ['mouse', 'human']}"
   ]
  },
  {
   "cell_type": "code",
   "execution_count": 8,
   "id": "85d5a0e4",
   "metadata": {},
   "outputs": [],
   "source": [
    "sibling_generations = list(product(*[[(x, z) for z in y] for x, y in params.items()][:2]))\n",
    "\n",
    "signature_genes = dict()\n",
    "for t in params['tissue']:\n",
    "    df_slice = results[(results.tissue == t) & (results.dataset_type == 'expression')]\n",
    "    signature_genes[t] = set.intersection(*[set(x.split(\";\")) for x in df_slice.hallmarks.tolist()])\n"
   ]
  },
  {
   "cell_type": "markdown",
   "id": "03a9e0a7",
   "metadata": {},
   "source": [
    "Aging signatures for mice and humans have a substantial intersection in the three tried tissues:"
   ]
  },
  {
   "cell_type": "code",
   "execution_count": 9,
   "id": "e4054f07",
   "metadata": {},
   "outputs": [
    {
     "data": {
      "text/plain": [
       "{'liver': 33, 'muscle': 22, 'lung': 27}"
      ]
     },
     "execution_count": 9,
     "metadata": {},
     "output_type": "execute_result"
    }
   ],
   "source": [
    "{x:len(y) for x,y in signature_genes.items()}"
   ]
  },
  {
   "cell_type": "markdown",
   "id": "9bbe9bb9",
   "metadata": {},
   "source": [
    "First, we look for the compounds whose targets (both known and predicted) significantly overlap with the identified signature genes: "
   ]
  },
  {
   "cell_type": "code",
   "execution_count": 10,
   "id": "471553b2",
   "metadata": {},
   "outputs": [
    {
     "name": "stdout",
     "output_type": "stream",
     "text": [
      "\n",
      "Compounds targetting liver aging in mice and humans:\n",
      "Cholic acid; Deoxycholic acid; Honokiol; Indobufen; Sorbic acid... (total N = 90)\n",
      "\n",
      "Compounds targetting muscle aging in mice and humans:\n",
      "Cyclosporin a; Nomegestrol; Cholic acid; Riboflavin; Honokiol... (total N = 27)\n",
      "\n",
      "Compounds targetting lung aging in mice and humans:\n",
      "Docosanoic acid; Arachidic acid; Vitamin e; Triamcinolone; L-glutamic acid... (total N = 25)\n"
     ]
    }
   ],
   "source": [
    "picked_cpds = dict()\n",
    "for t in params['tissue']:\n",
    "    picked_cpds[t] = batman_db.find_enriched_cpds(\n",
    "                                  signature_genes[t], # genes to be targeted by natural compounds\n",
    "                                  tg_type='both', # consider both known and predicted molecular targets\n",
    "                                  thr=0.01, # significance threshold, with multiple comparison\n",
    "                                  cpd_subset=cpd_filter # consider only compounds known to P3GPT\n",
    "                                                )\n",
    "    print(f\"\\nCompounds targetting {t} aging in mice and humans:\\n\"\n",
    "          f\"{'; '.join([x['name'].capitalize() for x in picked_cpds[t].values()][-5:])}... (total N = {len(picked_cpds[t])})\")\n",
    "\n",
    "with open(\"./materials/27Oct2024_picked_cpds_cross-species.pkl\", \"wb\") as f:\n",
    "    pickle.dump(picked_cpds, f)"
   ]
  },
  {
   "cell_type": "markdown",
   "id": "660943d7",
   "metadata": {},
   "source": [
    "Among these compounds, eight appear for all three tissues:"
   ]
  },
  {
   "cell_type": "code",
   "execution_count": 11,
   "id": "eb0d6325",
   "metadata": {},
   "outputs": [
    {
     "name": "stdout",
     "output_type": "stream",
     "text": [
      "CID\tCompound name\n",
      "(10467, 'Arachidic acid')\n",
      "(936, 'nicotinamide')\n",
      "(177, 'acetate')\n",
      "(243, 'benzoate')\n",
      "(8215, 'Docosanoic acid')\n",
      "(2266, 'nonanedioic acid')\n",
      "(1054, 'pyridoxine')\n",
      "(3647, 'hydroflumethiazide')\n"
     ]
    }
   ],
   "source": [
    "multitis_cpds = set.intersection(*[set(picked_cpds[x].keys()) for x in params['tissue']])\n",
    "print(\"CID\\tCompound name\")\n",
    "print(*[(x, batman_db.ingrs[x].pref_name) for x in multitis_cpds], sep = '\\n')"
   ]
  },
  {
   "cell_type": "markdown",
   "id": "e427b344",
   "metadata": {},
   "source": [
    "We can now easily identify the formulas from BATMAN-TCM2 that contain all eight by inspecting their ingredients:"
   ]
  },
  {
   "cell_type": "code",
   "execution_count": 12,
   "id": "908531c3",
   "metadata": {},
   "outputs": [
    {
     "name": "stdout",
     "output_type": "stream",
     "text": [
      "SHEN RONG LU TAI GAO\n"
     ]
    }
   ],
   "source": [
    "flas_w_all_cpds = [x for x,y in batman_db.formulas.items() if \n",
    "                   all([z in [a.cid for a in y.ingrs] for z in multitis_cpds])]\n",
    "print(*flas_w_all_cpds, sep=\"\\n\")"
   ]
  },
  {
   "cell_type": "markdown",
   "id": "9f06ccc5",
   "metadata": {},
   "source": [
    "There is only one such formula: [SHEN RONG LU TAI GAO](http://www.tcmip.cn/ETCM/index.php/Home/Index/fj_details.html?pid=SHEN%20RONG%20LU%20TAI%20GAO), which is an ointment containing ginseng and deer placenta used to improve female reproductive health.\n",
    "\n",
    "There are alternative ways to interact with TCM databases to enable geroprotector search. E.g. we may look for formulas that have compounds affecting 2+ signatures of aging:"
   ]
  },
  {
   "cell_type": "code",
   "execution_count": 13,
   "id": "4033673c",
   "metadata": {},
   "outputs": [],
   "source": [
    "cpd_counts =  sum([list(x.keys()) for x in picked_cpds.values()], [])\n",
    "cpd_counts = [x for x in set(cpd_counts) if cpd_counts.count(x)>1]\n",
    "\n",
    "sel_flas = batman_db.select_N_formulas_by_cids(cids = cpd_counts, # look for this compounds in TCM formulas\n",
    "                                               min_cids = 20, # a formula has to have at least 20 cids\n",
    "                                               N_top = 100 # how many formulas to present\n",
    "                                              )"
   ]
  },
  {
   "cell_type": "markdown",
   "id": "c0ba5e06",
   "metadata": {},
   "source": [
    "The only formula with all 20 compounds is HUA SHAN WU ZI DAN:"
   ]
  },
  {
   "cell_type": "code",
   "execution_count": 14,
   "id": "57dc6c5d",
   "metadata": {},
   "outputs": [
    {
     "data": {
      "text/plain": [
       "(20, ['HUA SHAN WU ZI DAN'])"
      ]
     },
     "execution_count": 14,
     "metadata": {},
     "output_type": "execute_result"
    }
   ],
   "source": [
    "sel_flas"
   ]
  },
  {
   "cell_type": "markdown",
   "id": "e145ec04",
   "metadata": {},
   "source": [
    "We can inspect these 20 compounds:"
   ]
  },
  {
   "cell_type": "code",
   "execution_count": 21,
   "id": "962c3859",
   "metadata": {},
   "outputs": [
    {
     "data": {
      "text/plain": [
       "['Arachidic acid',\n",
       " 'L-ascorbic acid',\n",
       " 'Benzoate',\n",
       " 'Cholic acid',\n",
       " 'Docosanoic acid',\n",
       " 'Pseudoephedrine',\n",
       " 'Acetate',\n",
       " 'Nonanedioic acid',\n",
       " 'Butyric acid',\n",
       " 'Picolinic acid',\n",
       " 'Thiamine',\n",
       " 'Protoporphyrin ix',\n",
       " 'Chenodeoxycholic acid',\n",
       " 'Desoxycortone',\n",
       " 'Glycerol',\n",
       " 'Vitamin e',\n",
       " 'Hypoxanthine',\n",
       " 'Uric acid',\n",
       " 'Hydroflumethiazide',\n",
       " 'L-glutamic acid']"
      ]
     },
     "execution_count": 21,
     "metadata": {},
     "output_type": "execute_result"
    }
   ],
   "source": [
    "[x.pref_name.capitalize() for x in batman_db.formulas['HUA SHAN WU ZI DAN'].ingrs if x.cid in cpd_counts]"
   ]
  },
  {
   "cell_type": "markdown",
   "id": "2ca64022",
   "metadata": {},
   "source": [
    "In addition to searching for formulas based on the compounds they contain, TCMxPlore allows picking herbs based on the genes they target:"
   ]
  },
  {
   "cell_type": "code",
   "execution_count": 24,
   "id": "195c229c",
   "metadata": {},
   "outputs": [
    {
     "name": "stdout",
     "output_type": "stream",
     "text": [
      "13 genes are upregulated in at least two of tissues in mice and humans\n",
      "\n",
      "OVCH1; LBP; ACSM1; SCD; MOBP; SERPINA3; C3; SLC7A2; CFD; KRT15; MIOX; SRPX; NNMT\n",
      "\n",
      "(Herb, N targets from set)\n",
      "('SHA YUAN ZI', 7)\n",
      "('ROU CONG RONG', 7)\n",
      "('SHAN ZHA YE', 7)\n"
     ]
    }
   ],
   "source": [
    "# Get a set of genes that are present in 2+ signatures of cross-species aging \n",
    "double_tgs = ((signature_genes[\"lung\"] & signature_genes[\"liver\"]) |\n",
    "              (signature_genes[\"lung\"] & signature_genes[\"muscle\"]) |\n",
    "              (signature_genes[\"muscle\"] & signature_genes[\"liver\"]))\n",
    "print(f\"{len(double_tgs)} genes are upregulated in at least two of tissues in mice and humans\\n\")\n",
    "print(*double_tgs, sep ='; ', end=\"\\n\\n\")\n",
    "\n",
    "# With this call, you'll see how many genes each herb has as its target\n",
    "tg_based_herbs = batman_db.select_herbs_for_targets(double_tgs)\n",
    "# Finally, select only the herbs that hit the highest number of genes\n",
    "N_max = max(tg_based_herbs.values())\n",
    "tg_based_herbs = {x:y for x,y in tg_based_herbs.items() if y == N_max}\n",
    "print(\"(Herb, N targets from set)\")\n",
    "print(*tg_based_herbs.items(), sep = '\\n')"
   ]
  },
  {
   "cell_type": "markdown",
   "id": "ae7b83c0",
   "metadata": {},
   "source": [
    "You can define your own formulas locally, so they appear in your next searches:"
   ]
  },
  {
   "cell_type": "code",
   "execution_count": 25,
   "id": "87bc5ba4",
   "metadata": {},
   "outputs": [
    {
     "data": {
      "text/plain": [
       "<Formula: Custom Formula ~1>"
      ]
     },
     "execution_count": 25,
     "metadata": {},
     "output_type": "execute_result"
    }
   ],
   "source": [
    "batman_db.formulas[\"Custom Formula ~1\"] = batman_db.create_formula_from_herbs(tg_based_herbs.keys())\n",
    "batman_db.formulas[\"Custom Formula ~1\"]"
   ]
  },
  {
   "cell_type": "markdown",
   "id": "807a3010",
   "metadata": {},
   "source": [
    "## Using cross-tissue human aging halmarks to select TCM formulas\n",
    "We may focus on the herbs that are expected "
   ]
  },
  {
   "cell_type": "code",
   "execution_count": 26,
   "id": "5ff65530",
   "metadata": {},
   "outputs": [],
   "source": [
    "all_tis = ['liver', 'muscle', 'lung', 'skin', 'heart', 'kidney', 'fat tissue']\n",
    "signature_genes = dict()"
   ]
  },
  {
   "cell_type": "code",
   "execution_count": 27,
   "id": "2e5c6d3f",
   "metadata": {},
   "outputs": [],
   "source": [
    "for t in all_tis:\n",
    "    df_slice = results[(results.tissue == t) & \n",
    "                       (results.dataset_type == 'expression') & \n",
    "                       (results.species == 'human')]\n",
    "    signature_genes[t] = set.intersection(*[set(x.split(\";\")) for x in df_slice.hallmarks.tolist()])\n"
   ]
  },
  {
   "cell_type": "code",
   "execution_count": 28,
   "id": "50c8b9ad",
   "metadata": {},
   "outputs": [
    {
     "name": "stdout",
     "output_type": "stream",
     "text": [
      "Done with liver — 177 compounds picked\n",
      "Done with muscle — 160 compounds picked\n",
      "Done with lung — 162 compounds picked\n",
      "Done with skin — 143 compounds picked\n",
      "Done with heart — 132 compounds picked\n",
      "Done with kidney — 192 compounds picked\n",
      "Done with fat tissue — 147 compounds picked\n"
     ]
    }
   ],
   "source": [
    "picked_cpds = dict()\n",
    "for t in all_tis:\n",
    "    picked_cpds[t] = batman_db.find_enriched_cpds(signature_genes[t],\n",
    "                                                  tg_type='both',\n",
    "                                                  thr=0.001,\n",
    "                                                  cpd_subset=cpd_filter)\n",
    "    print(f\"Done with {t} — {len(picked_cpds[t])} compounds picked\")"
   ]
  },
  {
   "cell_type": "code",
   "execution_count": 29,
   "id": "47cad1d0",
   "metadata": {},
   "outputs": [],
   "source": [
    "cpd_counts = {x:[t for t in picked_cpds if x in picked_cpds[t]] for x in set(cpd_filter)}\n",
    "cpd_counts = {x:y for x,y in cpd_counts.items() if y}\n",
    "cpd_counts = dict(sorted(cpd_counts.items(), key=lambda x:len(x[1]), reverse=True))\n",
    "top_cpds = [x for x in cpd_counts if len(cpd_counts[x]) == 7]"
   ]
  },
  {
   "cell_type": "code",
   "execution_count": 31,
   "id": "fb95db8b",
   "metadata": {},
   "outputs": [
    {
     "data": {
      "text/plain": [
       "{6166: ['liver', 'muscle', 'lung', 'skin', 'heart', 'kidney', 'fat tissue'],\n",
       " 8215: ['liver', 'muscle', 'lung', 'skin', 'heart', 'kidney', 'fat tissue'],\n",
       " 6231: ['liver', 'muscle', 'lung', 'skin', 'heart', 'kidney', 'fat tissue'],\n",
       " 4189: ['liver', 'muscle', 'lung', 'skin', 'heart', 'kidney', 'fat tissue'],\n",
       " 2153: ['liver', 'muscle', 'lung', 'skin', 'heart', 'kidney', 'fat tissue'],\n",
       " 177: ['liver', 'muscle', 'lung', 'skin', 'heart', 'kidney', 'fat tissue'],\n",
       " 2244: ['liver', 'muscle', 'lung', 'skin', 'heart', 'kidney', 'fat tissue'],\n",
       " 2266: ['liver', 'muscle', 'lung', 'skin', 'heart', 'kidney', 'fat tissue'],\n",
       " 10467: ['liver', 'muscle', 'lung', 'skin', 'heart', 'kidney', 'fat tissue'],\n",
       " 243: ['liver', 'muscle', 'lung', 'skin', 'heart', 'kidney', 'fat tissue'],\n",
       " 264: ['liver', 'muscle', 'lung', 'skin', 'heart', 'kidney', 'fat tissue'],\n",
       " 33032: ['liver', 'muscle', 'lung', 'skin', 'heart', 'kidney', 'fat tissue'],\n",
       " 2337: ['liver', 'muscle', 'lung', 'skin', 'heart', 'kidney', 'fat tissue'],\n",
       " 221493: ['liver', 'muscle', 'lung', 'skin', 'heart', 'kidney', 'fat tissue'],\n",
       " 444795: ['liver', 'muscle', 'lung', 'skin', 'heart', 'kidney', 'fat tissue'],\n",
       " 2519: ['liver', 'muscle', 'lung', 'skin', 'heart', 'kidney', 'fat tissue'],\n",
       " 2520: ['liver', 'muscle', 'lung', 'skin', 'heart', 'kidney', 'fat tissue'],\n",
       " 444899: ['liver', 'muscle', 'lung', 'skin', 'heart', 'kidney', 'fat tissue'],\n",
       " 4680: ['liver', 'muscle', 'lung', 'skin', 'heart', 'kidney', 'fat tissue'],\n",
       " 14985: ['liver', 'muscle', 'lung', 'skin', 'heart', 'kidney', 'fat tissue'],\n",
       " 2726: ['liver', 'muscle', 'lung', 'skin', 'heart', 'kidney', 'fat tissue'],\n",
       " 31401: ['liver', 'muscle', 'lung', 'skin', 'heart', 'kidney', 'fat tissue'],\n",
       " 6883: ['liver', 'muscle', 'lung', 'skin', 'heart', 'kidney', 'fat tissue'],\n",
       " 445154: ['liver', 'muscle', 'lung', 'skin', 'heart', 'kidney', 'fat tissue'],\n",
       " 54670067: ['liver',\n",
       "  'muscle',\n",
       "  'lung',\n",
       "  'skin',\n",
       "  'heart',\n",
       "  'kidney',\n",
       "  'fat tissue'],\n",
       " 4886: ['liver', 'muscle', 'lung', 'skin', 'heart', 'kidney', 'fat tissue'],\n",
       " 4971: ['liver', 'muscle', 'lung', 'skin', 'heart', 'kidney', 'fat tissue'],\n",
       " 7028: ['liver', 'muscle', 'lung', 'skin', 'heart', 'kidney', 'fat tissue'],\n",
       " 896: ['liver', 'muscle', 'lung', 'skin', 'heart', 'kidney', 'fat tissue'],\n",
       " 936: ['liver', 'muscle', 'lung', 'skin', 'heart', 'kidney', 'fat tissue'],\n",
       " 445354: ['liver', 'muscle', 'lung', 'skin', 'heart', 'kidney', 'fat tissue'],\n",
       " 5054: ['liver', 'muscle', 'lung', 'skin', 'heart', 'kidney', 'fat tissue'],\n",
       " 996: ['liver', 'muscle', 'lung', 'skin', 'heart', 'kidney', 'fat tissue'],\n",
       " 5311498: ['liver', 'muscle', 'lung', 'skin', 'heart', 'kidney', 'fat tissue'],\n",
       " 1054: ['liver', 'muscle', 'lung', 'skin', 'heart', 'kidney', 'fat tissue'],\n",
       " 439378: ['liver', 'muscle', 'lung', 'skin', 'heart', 'kidney', 'fat tissue'],\n",
       " 1130: ['liver', 'muscle', 'lung', 'skin', 'heart', 'kidney', 'fat tissue'],\n",
       " 3182: ['liver', 'muscle', 'lung', 'skin', 'heart', 'kidney', 'fat tissue'],\n",
       " 1176: ['liver', 'muscle', 'lung', 'skin', 'heart', 'kidney', 'fat tissue'],\n",
       " 3488: ['liver', 'muscle', 'lung', 'skin', 'heart', 'kidney', 'fat tissue'],\n",
       " 11683: ['liver', 'muscle', 'lung', 'skin', 'heart', 'kidney', 'fat tissue'],\n",
       " 3647: ['liver', 'muscle', 'lung', 'skin', 'heart', 'kidney', 'fat tissue'],\n",
       " 3676: ['liver', 'muscle', 'lung', 'skin', 'heart', 'kidney', 'fat tissue'],\n",
       " 5754: ['liver', 'muscle', 'lung', 'skin', 'heart', 'kidney', 'fat tissue'],\n",
       " 5755: ['liver', 'muscle', 'lung', 'skin', 'heart', 'kidney', 'fat tissue'],\n",
       " 5757: ['liver', 'muscle', 'lung', 'skin', 'heart', 'kidney', 'fat tissue'],\n",
       " 5881: ['liver', 'muscle', 'lung', 'skin', 'heart', 'kidney', 'fat tissue'],\n",
       " 5892: ['liver', 'muscle', 'lung', 'skin', 'heart', 'kidney', 'fat tissue'],\n",
       " 5961: ['liver', 'muscle', 'lung', 'skin', 'heart', 'kidney', 'fat tissue'],\n",
       " 5991: ['liver', 'muscle', 'lung', 'skin', 'heart', 'kidney', 'fat tissue'],\n",
       " 5994: ['liver', 'muscle', 'lung', 'skin', 'heart', 'kidney', 'fat tissue'],\n",
       " 10133: ['liver', 'muscle', 'lung', 'skin', 'heart', 'kidney', 'fat tissue'],\n",
       " 6083: ['liver', 'muscle', 'lung', 'skin', 'heart', 'kidney', 'fat tissue'],\n",
       " 4055: ['liver', 'muscle', 'lung', 'skin', 'heart', 'kidney', 'fat tissue'],\n",
       " 31307: ['liver', 'lung', 'skin', 'heart', 'kidney', 'fat tissue'],\n",
       " 681: ['liver', 'muscle', 'lung', 'skin', 'kidney', 'fat tissue'],\n",
       " 31404: ['liver', 'muscle', 'skin', 'heart', 'kidney', 'fat tissue'],\n",
       " 5280489: ['liver', 'muscle', 'lung', 'skin', 'heart', 'kidney'],\n",
       " 441074: ['liver', 'lung', 'skin', 'heart', 'kidney', 'fat tissue'],\n",
       " 8969: ['liver', 'muscle', 'lung', 'skin', 'kidney', 'fat tissue'],\n",
       " 33613: ['liver', 'lung', 'skin', 'heart', 'kidney', 'fat tissue'],\n",
       " 5035: ['liver', 'muscle', 'lung', 'heart', 'kidney', 'fat tissue'],\n",
       " 3034034: ['liver', 'lung', 'skin', 'heart', 'kidney', 'fat tissue'],\n",
       " 1018: ['liver', 'lung', 'skin', 'heart', 'kidney', 'fat tissue'],\n",
       " 1046: ['liver', 'lung', 'skin', 'heart', 'kidney', 'fat tissue'],\n",
       " 5154: ['liver', 'lung', 'skin', 'heart', 'kidney', 'fat tissue'],\n",
       " 3114: ['liver', 'muscle', 'skin', 'heart', 'kidney', 'fat tissue'],\n",
       " 6450278: ['liver', 'muscle', 'lung', 'skin', 'heart', 'kidney'],\n",
       " 135408753: ['liver', 'muscle', 'skin', 'heart', 'kidney', 'fat tissue'],\n",
       " 5291: ['liver', 'muscle', 'lung', 'heart', 'kidney', 'fat tissue'],\n",
       " 439501: ['liver', 'muscle', 'lung', 'skin', 'kidney', 'fat tissue'],\n",
       " 9433: ['liver', 'lung', 'skin', 'heart', 'kidney', 'fat tissue'],\n",
       " 135398658: ['liver', 'muscle', 'lung', 'skin', 'kidney', 'fat tissue'],\n",
       " 222528: ['liver', 'muscle', 'skin', 'heart', 'kidney', 'fat tissue'],\n",
       " 5504: ['liver', 'muscle', 'skin', 'heart', 'kidney', 'fat tissue'],\n",
       " 9651: ['liver', 'muscle', 'lung', 'heart', 'kidney', 'fat tissue'],\n",
       " 89594: ['liver', 'lung', 'skin', 'heart', 'kidney', 'fat tissue'],\n",
       " 60961: ['liver', 'muscle', 'lung', 'skin', 'heart', 'kidney'],\n",
       " 3767: ['liver', 'lung', 'skin', 'heart', 'kidney', 'fat tissue'],\n",
       " 5816: ['liver', 'lung', 'skin', 'heart', 'kidney', 'fat tissue'],\n",
       " 5995: ['muscle', 'lung', 'skin', 'heart', 'kidney', 'fat tissue'],\n",
       " 6013: ['liver', 'muscle', 'lung', 'heart', 'kidney', 'fat tissue'],\n",
       " 6128: ['liver', 'muscle', 'lung', 'skin', 'heart', 'kidney'],\n",
       " 493570: ['muscle', 'lung', 'skin', 'heart', 'kidney'],\n",
       " 10365: ['liver', 'lung', 'skin', 'kidney', 'fat tissue'],\n",
       " 187: ['liver', 'muscle', 'heart', 'kidney', 'fat tissue'],\n",
       " 9552079: ['liver', 'muscle', 'lung', 'kidney', 'fat tissue'],\n",
       " 338: ['liver', 'skin', 'heart', 'kidney', 'fat tissue'],\n",
       " 643460: ['liver', 'muscle', 'lung', 'heart', 'kidney'],\n",
       " 8593: ['liver', 'lung', 'skin', 'kidney', 'fat tissue'],\n",
       " 5284373: ['muscle', 'lung', 'skin', 'kidney', 'fat tissue'],\n",
       " 72303: ['liver', 'muscle', 'skin', 'heart', 'fat tissue'],\n",
       " 5284513: ['muscle', 'lung', 'skin', 'heart', 'kidney'],\n",
       " 5280450: ['liver', 'muscle', 'lung', 'heart', 'kidney'],\n",
       " 753: ['liver', 'muscle', 'lung', 'skin', 'kidney'],\n",
       " 5284607: ['liver', 'muscle', 'heart', 'kidney', 'fat tissue'],\n",
       " 5280581: ['liver', 'muscle', 'lung', 'heart', 'kidney'],\n",
       " 892: ['liver', 'muscle', 'lung', 'skin', 'kidney'],\n",
       " 6439848: ['liver', 'muscle', 'lung', 'heart', 'kidney'],\n",
       " 938: ['liver', 'lung', 'skin', 'kidney', 'fat tissue'],\n",
       " 439260: ['liver', 'muscle', 'lung', 'skin', 'kidney'],\n",
       " 445580: ['liver', 'muscle', 'lung', 'heart', 'kidney'],\n",
       " 5280933: ['liver', 'muscle', 'lung', 'heart', 'kidney'],\n",
       " 5280934: ['liver', 'muscle', 'lung', 'heart', 'kidney'],\n",
       " 68783: ['muscle', 'lung', 'heart', 'kidney', 'fat tissue'],\n",
       " 135398638: ['liver', 'muscle', 'skin', 'heart', 'fat tissue'],\n",
       " 3406: ['liver', 'muscle', 'lung', 'skin', 'fat tissue'],\n",
       " 36314: ['muscle', 'lung', 'skin', 'kidney', 'fat tissue'],\n",
       " 5665: ['muscle', 'lung', 'skin', 'heart', 'kidney'],\n",
       " 65157: ['muscle', 'lung', 'skin', 'heart', 'kidney'],\n",
       " 1727: ['liver', 'muscle', 'lung', 'skin', 'kidney'],\n",
       " 6100671: ['liver', 'skin', 'heart', 'kidney', 'fat tissue'],\n",
       " 5870: ['muscle', 'lung', 'heart', 'kidney', 'fat tissue'],\n",
       " 5952: ['muscle', 'lung', 'skin', 'heart', 'kidney'],\n",
       " 446284: ['liver', 'muscle', 'lung', 'heart', 'kidney'],\n",
       " 6047: ['liver', 'lung', 'skin', 'kidney', 'fat tissue'],\n",
       " 4078: ['muscle', 'lung', 'skin', 'kidney', 'fat tissue'],\n",
       " 65752: ['liver', 'muscle', 'heart', 'kidney'],\n",
       " 239: ['muscle', 'lung', 'skin', 'fat tissue'],\n",
       " 2345: ['liver', 'muscle', 'lung', 'kidney'],\n",
       " 8515: ['liver', 'muscle', 'heart', 'kidney'],\n",
       " 2435: ['muscle', 'heart', 'kidney', 'fat tissue'],\n",
       " 10635: ['liver', 'lung', 'heart', 'fat tissue'],\n",
       " 4506: ['muscle', 'lung', 'skin', 'fat tissue'],\n",
       " 464: ['liver', 'lung', 'skin', 'kidney'],\n",
       " 6613: ['muscle', 'lung', 'skin', 'kidney'],\n",
       " 2724385: ['liver', 'lung', 'skin', 'fat tissue'],\n",
       " 4649: ['liver', 'heart', 'kidney', 'fat tissue'],\n",
       " 5282367: ['liver', 'muscle', 'heart', 'kidney'],\n",
       " 5280343: ['liver', 'muscle', 'kidney', 'fat tissue'],\n",
       " 6758: ['liver', 'lung', 'skin', 'kidney'],\n",
       " 105078: ['liver', 'muscle', 'lung', 'kidney'],\n",
       " 1548943: ['liver', 'muscle', 'kidney', 'fat tissue'],\n",
       " 8955: ['muscle', 'lung', 'kidney', 'fat tissue'],\n",
       " 969516: ['liver', 'muscle', 'lung', 'heart'],\n",
       " 2893: ['liver', 'muscle', 'lung', 'kidney'],\n",
       " 3218: ['liver', 'lung', 'skin', 'kidney'],\n",
       " 3220: ['liver', 'skin', 'heart', 'kidney'],\n",
       " 9416: ['muscle', 'lung', 'skin', 'kidney'],\n",
       " 3278: ['liver', 'muscle', 'heart', 'fat tissue'],\n",
       " 3291: ['liver', 'lung', 'skin', 'kidney'],\n",
       " 71077: ['liver', 'lung', 'kidney', 'fat tissue'],\n",
       " 64945: ['lung', 'skin', 'heart', 'fat tissue'],\n",
       " 3516: ['lung', 'skin', 'kidney', 'fat tissue'],\n",
       " 5564: ['liver', 'heart', 'kidney', 'fat tissue'],\n",
       " 9750: ['liver', 'lung', 'skin', 'kidney'],\n",
       " 171548: ['muscle', 'lung', 'skin', 'kidney'],\n",
       " 5753: ['muscle', 'lung', 'skin', 'fat tissue'],\n",
       " 9903: ['liver', 'muscle', 'heart', 'fat tissue'],\n",
       " 3784: ['muscle', 'lung', 'skin', 'fat tissue'],\n",
       " 442088: ['liver', 'muscle', 'heart', 'kidney'],\n",
       " 6917864: ['liver', 'heart', 'kidney', 'fat tissue'],\n",
       " 5959: ['liver', 'muscle', 'lung', 'kidney'],\n",
       " 6000: ['liver', 'heart', 'kidney', 'fat tissue'],\n",
       " 10114: ['lung', 'heart', 'kidney', 'fat tissue'],\n",
       " 20393: ['liver', 'lung', 'skin', 'kidney'],\n",
       " 53232: ['lung', 'skin', 'kidney', 'fat tissue'],\n",
       " 6251: ['muscle', 'skin', 'kidney'],\n",
       " 119: ['muscle', 'lung', 'skin'],\n",
       " 6305: ['muscle', 'lung', 'skin'],\n",
       " 244: ['liver', 'muscle', 'lung'],\n",
       " 2310: ['liver', 'lung', 'skin'],\n",
       " 4421: ['muscle', 'heart', 'kidney'],\n",
       " 4641: ['liver', 'kidney', 'fat tissue'],\n",
       " 637568: ['liver', 'muscle', 'fat tissue'],\n",
       " 72326: ['muscle', 'heart', 'fat tissue'],\n",
       " 6714002: ['lung', 'kidney', 'fat tissue'],\n",
       " 47936: ['liver', 'lung', 'kidney'],\n",
       " 7029: ['liver', 'skin', 'kidney'],\n",
       " 5032: ['liver', 'skin', 'kidney'],\n",
       " 439213: ['liver', 'heart', 'fat tissue'],\n",
       " 9294: ['liver', 'skin', 'kidney'],\n",
       " 107985: ['lung', 'kidney', 'fat tissue'],\n",
       " 5756: ['heart', 'kidney', 'fat tissue'],\n",
       " 5819: ['liver', 'lung', 'kidney'],\n",
       " 5983: ['muscle', 'skin', 'fat tissue'],\n",
       " 6009: ['muscle', 'heart', 'kidney'],\n",
       " 6041: ['liver', 'skin', 'kidney'],\n",
       " 3000322: ['muscle', 'skin'],\n",
       " 6167: ['liver', 'kidney'],\n",
       " 4133: ['lung', 'kidney'],\n",
       " 4160: ['lung', 'kidney'],\n",
       " 2130: ['kidney', 'fat tissue'],\n",
       " 2214: ['heart', 'fat tissue'],\n",
       " 119034: ['muscle', 'lung'],\n",
       " 10494: ['lung', 'fat tissue'],\n",
       " 16666: ['liver', 'muscle'],\n",
       " 305: ['liver', 'muscle'],\n",
       " 2354: ['liver', 'muscle'],\n",
       " 104838: ['liver', 'heart'],\n",
       " 442894: ['liver', 'muscle'],\n",
       " 6736: ['liver', 'muscle'],\n",
       " 442972: ['heart', 'kidney'],\n",
       " 6755: ['liver', 'kidney'],\n",
       " 445070: ['muscle', 'heart'],\n",
       " 1548955: ['muscle', 'heart'],\n",
       " 369312: ['muscle', 'heart'],\n",
       " 2725: ['skin', 'kidney'],\n",
       " 31402: ['muscle', 'fat tissue'],\n",
       " 2746: ['liver', 'kidney'],\n",
       " 5280443: ['liver', 'fat tissue'],\n",
       " 6890: ['liver', 'skin'],\n",
       " 643820: ['muscle', 'heart'],\n",
       " 441071: ['lung', 'skin'],\n",
       " 774: ['lung', 'skin'],\n",
       " 5327723: ['liver', 'kidney'],\n",
       " 2950: ['skin', 'kidney'],\n",
       " 5280723: ['muscle', 'kidney'],\n",
       " 3071: ['liver', 'muscle'],\n",
       " 236702: ['lung', 'fat tissue'],\n",
       " 21704: ['muscle', 'skin'],\n",
       " 27924: ['lung', 'kidney'],\n",
       " 5403: ['lung', 'fat tissue'],\n",
       " 7456: ['lung', 'kidney'],\n",
       " 7510: ['muscle', 'lung'],\n",
       " 64971: ['liver', 'fat tissue'],\n",
       " 23668193: ['liver', 'muscle'],\n",
       " 65064: ['kidney', 'fat tissue'],\n",
       " 222786: ['lung', 'fat tissue'],\n",
       " 151118: ['liver', 'kidney'],\n",
       " 5281365: ['muscle', 'heart'],\n",
       " 6917803: ['muscle', 'skin'],\n",
       " 9904: ['lung', 'kidney'],\n",
       " 71398: ['muscle', 'fat tissue'],\n",
       " 5879: ['heart', 'fat tissue'],\n",
       " 167683: ['muscle', 'lung'],\n",
       " 3845: ['heart', 'kidney'],\n",
       " 5920: ['lung', 'kidney'],\n",
       " 5281708: ['liver', 'kidney'],\n",
       " 10208: ['skin', 'kidney'],\n",
       " 5281807: ['liver'],\n",
       " 6185: ['lung'],\n",
       " 174174: ['skin'],\n",
       " 2148: ['skin'],\n",
       " 6256: ['liver'],\n",
       " 178: ['kidney'],\n",
       " 4277: ['kidney'],\n",
       " 4284: ['liver'],\n",
       " 204: ['kidney'],\n",
       " 26934: ['kidney'],\n",
       " 10607: ['kidney'],\n",
       " 6324617: ['muscle'],\n",
       " 119245: ['fat tissue'],\n",
       " 4581: ['liver'],\n",
       " 4583: ['kidney'],\n",
       " 6675: ['liver'],\n",
       " 72301: ['skin'],\n",
       " 639665: ['liver'],\n",
       " 2764: ['kidney'],\n",
       " 15074: ['liver'],\n",
       " 4837: ['fat tissue'],\n",
       " 164676: ['liver'],\n",
       " 439246: ['kidney'],\n",
       " 441298: ['lung'],\n",
       " 441300: ['muscle'],\n",
       " 68570: ['kidney'],\n",
       " 15331: ['kidney'],\n",
       " 7172: ['fat tissue'],\n",
       " 1030: ['muscle'],\n",
       " 27661: ['muscle'],\n",
       " 15376: ['liver'],\n",
       " 5161: ['lung'],\n",
       " 638024: ['muscle'],\n",
       " 5202: ['lung'],\n",
       " 5210: ['kidney'],\n",
       " 1123: ['fat tissue'],\n",
       " 9909368: ['muscle'],\n",
       " 3219: ['fat tissue'],\n",
       " 5281787: ['fat tissue'],\n",
       " 15548: ['skin'],\n",
       " 5280961: ['kidney'],\n",
       " 68827: ['fat tissue'],\n",
       " 5350: ['muscle'],\n",
       " 7427: ['muscle'],\n",
       " 5417: ['skin'],\n",
       " 64983: ['lung'],\n",
       " 6419931: ['kidney'],\n",
       " 5610: ['liver'],\n",
       " 5641: ['liver'],\n",
       " 5283387: ['skin'],\n",
       " 40539: ['liver'],\n",
       " 69216: ['kidney'],\n",
       " 5770: ['lung'],\n",
       " 5790: ['liver'],\n",
       " 5880: ['fat tissue'],\n",
       " 5281613: ['skin'],\n",
       " 5281614: ['fat tissue'],\n",
       " 5978: ['lung'],\n",
       " 122724: ['kidney'],\n",
       " 5392245: ['liver'],\n",
       " 4004: ['liver'],\n",
       " 10205: ['fat tissue'],\n",
       " 9848818: ['liver'],\n",
       " 667639: ['heart']}"
      ]
     },
     "execution_count": 31,
     "metadata": {},
     "output_type": "execute_result"
    }
   ],
   "source": [
    "cpd_counts"
   ]
  },
  {
   "cell_type": "code",
   "execution_count": 33,
   "id": "3248bca9",
   "metadata": {},
   "outputs": [
    {
     "name": "stdout",
     "output_type": "stream",
     "text": [
      "Compounds found that affect 1+ tissues: 294\n",
      "\n",
      "Compounds found to affect exactly 1 tissues: 64\n",
      "Compounds found to affect exactly 2 tissues: 52\n",
      "Compounds found to affect exactly 3 tissues: 21\n",
      "Compounds found to affect exactly 4 tissues: 40\n",
      "Compounds found to affect exactly 5 tissues: 34\n",
      "Compounds found to affect exactly 6 tissues: 29\n",
      "Compounds found that affect all 7 tissues: 54\n",
      "\n",
      "Ethinyl estradiol\n",
      "Progesterone\n",
      "Chenodeoxycholic acid\n",
      "Adenosine 5'-monophosphate\n",
      "Menadione\n",
      "...\n"
     ]
    }
   ],
   "source": [
    "print(f\"Compounds found that affect 1+ tissues: {len(cpd_counts)}\\n\")\n",
    "for  i in range(6):\n",
    "    cpd_hits = len([x for x,y in cpd_counts.items() if len(y) == i+1])\n",
    "    print(f\"Compounds found to affect exactly {i+1} tissues: {cpd_hits}\")\n",
    "\n",
    "print(f\"Compounds found that affect all 7 tissues: {len(top_cpds)}\\n\")\n",
    "print(*[batman_db.ingrs[x].pref_name.capitalize() for x in top_cpds][-5:], sep=\"\\n\")\n",
    "print(\"...\")"
   ]
  },
  {
   "cell_type": "markdown",
   "id": "ed2f2290",
   "metadata": {},
   "source": [
    "No existing TCM formula has all the idntified compounds targetting the aging processes in 7 tissues, with the best contender [TOU GU ZHEN FENG WAN](https://bidd.group/TCMID/tcmf.php?formula=TCMFx5163) featuring only 25 such compounds."
   ]
  },
  {
   "cell_type": "code",
   "execution_count": 34,
   "id": "3ef91a8b",
   "metadata": {},
   "outputs": [
    {
     "name": "stdout",
     "output_type": "stream",
     "text": [
      "Compounds found in the best-fitting formula: 25\n",
      "Formula name: ['TOU GU ZHEN FENG WAN (TOU GU ZHEN FENG DAN )']\n"
     ]
    }
   ],
   "source": [
    "best_fla = batman_db.select_N_formulas_by_cids(top_cpds,\n",
    "                                               min_cids = 25,\n",
    "                                               N_top=1)\n",
    "print(\"Compounds found in the best-fitting formula: %s\\nFormula name: %s\"%best_fla)"
   ]
  },
  {
   "cell_type": "markdown",
   "id": "f26e57e7",
   "metadata": {},
   "source": [
    "TCMxPlore provides you with several points of control when it comes to designing new formulas.\n",
    "By default, the `get_greedy_formula(...)` method will keep adding herbs until all the sought compounds are represented in a formula. Such formulas may end up with too complicated. You may limit the total number of herbs in your formula with the `max_herb` parameter, or exclude certain herbs from consideration with the `blacklist` parameter."
   ]
  },
  {
   "cell_type": "code",
   "execution_count": 56,
   "id": "6b590bfc",
   "metadata": {},
   "outputs": [],
   "source": [
    "greedy_fla = batman_db.get_greedy_formula(top_cpds)\n",
    "# Enforce a simpler composition at the cost of including fewer compounds\n",
    "smol_fla = batman_db.get_greedy_formula(top_cpds, max_herb=4)\n",
    "# Some components may be excluded from search to avoid  potential\n",
    "# health hazards and animal-based products\n",
    "tcm_blacklist = [\"HA MA YOU\", # \"Forest frog's oviduct\n",
    "                 'XIONG DAN', # Bear gall\n",
    "                 'SHE XIANG', # Deer musk\n",
    "                 'ZI HE CHE', # Human placenta\n",
    "                 'DONG CHONG XIA CAO', # Cordyceps caterpillar,\n",
    "                 'LU RONG' # Deer antlers\n",
    "                 'JIU', # Alchol used in extraction\n",
    "                 'REN NIAO' # Human urine\n",
    "                ]\n",
    "floral_fla = batman_db.get_greedy_formula(top_cpds, max_herb=4,\n",
    "                                          blacklist = tcm_blacklist)\n",
    "# Remove restrictions on the number of compounds\n",
    "floral_fla_full = batman_db.get_greedy_formula(top_cpds, max_herb=100,\n",
    "                                               blacklist = tcm_blacklist)"
   ]
  },
  {
   "cell_type": "code",
   "execution_count": 60,
   "id": "9ed42575",
   "metadata": {},
   "outputs": [
    {
     "name": "stdout",
     "output_type": "stream",
     "text": [
      "Formula TCM-ISM-1 contains 30 ingredients which feature 54/54 of selected compounds\n",
      "\t1. Croton lechleri (carries 1 ingredients)\n",
      "\t2. Heterophylly falsestarwort root (carries 3 ingredients)\n",
      "\t3. Chinese floweringquince (carries 3 ingredients)\n",
      "\t4. Common tea (carries 5 ingredients)\n",
      "Formula TCM-ISM-2 contains 4 ingredients which feature 22/54 of selected compounds\n",
      "\t1. Ginseng (carries 5 ingredients)\n",
      "\t2. Chinese ephedra equivalent plant: ephedra equisetina  (carries 8 ingredients)\n",
      "\t3. Human placenta (carries 4 ingredients)\n",
      "\t4. Common sainfoin (carries 5 ingredients)\n",
      "Formula ISM-Formula#1 contains 30 ingredients which feature 53/54 of selected compounds\n",
      "\t1. Indigoplant leaf (carries 3 ingredients)\n",
      "\t2. Croton lechleri (carries 1 ingredients)\n",
      "\t3. Chinese floweringquince (carries 3 ingredients)\n",
      "\t4. Common tea (carries 5 ingredients)\n",
      "Formula ISM-Formula#2 contains 4 ingredients which feature 21/54 of selected compounds\n",
      "\t1. Ginseng (carries 5 ingredients)\n",
      "\t2. Chinese ephedra equivalent plant: ephedra equisetina  (carries 8 ingredients)\n",
      "\t3. Common tea (carries 5 ingredients)\n",
      "\t4. Common sainfoin (carries 5 ingredients)\n"
     ]
    }
   ],
   "source": [
    "tcm_flas = {\"TCM-ISM-1\":greedy_fla,\n",
    "            \"TCM-ISM-2\":smol_fla,\n",
    "            \"ISM-Formula#1\":floral_fla_full,\n",
    "            \"ISM-Formula#2\":floral_fla}\n",
    "for name, fla in tcm_flas.items():\n",
    "    cpds_hit = len(set([x.cid for x in fla.ingrs])&set(top_cpds))\n",
    "    n_herbs = len(fla.herbs)\n",
    "    print(f\"Formula {name} contains {n_herbs} ingredients which feature {cpds_hit}/{len(top_cpds)} of selected compounds\")\n",
    "    for i,h in enumerate(fla.herbs[:4]):\n",
    "        common_name = h.synonyms[2].split(\", \")[0]\n",
    "        cpds_in_herb = len(set([x.cid for x in h.ingrs])&set(top_cpds))\n",
    "        print(f\"\\t{i+1}. {common_name} (carries {cpds_in_herb} ingredients)\")\n",
    "\n",
    "# Serialize the formulas before saving to a file\n",
    "tcm_flas = {\"TCM-ISM-1\":greedy_fla.serialize(),\n",
    "            \"TCM-ISM-2\":smol_fla.serialize(),\n",
    "            \"ISM-Formula#1\":floral_fla_full.serialize(),\n",
    "            \"ISM-Formula#2\":floral_fla.serialize()}\n",
    "with open('./31Oct2024_all_formulas.json', 'w') as f:\n",
    "    json.dump(tcm_flas, f, indent=4)"
   ]
  },
  {
   "cell_type": "markdown",
   "id": "adff9592",
   "metadata": {},
   "source": [
    "# Applying agents to finalize the formula"
   ]
  },
  {
   "cell_type": "markdown",
   "id": "69d378f8",
   "metadata": {},
   "source": [
    "The descriptions for herbs and formulas in BATMAN-TCM2 are rather brief and do not provide a lot of context for how to mix the herbs or how they act, from the viewpoint of TCM.\n",
    "\n",
    "The Dragon-TCM database is much more fitting for such tasks and can be easily combined with LLM-based agents as a way to retrieve important information.\n",
    "\n"
   ]
  },
  {
   "cell_type": "code",
   "execution_count": 61,
   "id": "85630552",
   "metadata": {},
   "outputs": [
    {
     "name": "stdout",
     "output_type": "stream",
     "text": [
      "[+] 'REN SHEN' found in Dragon-TCM\n",
      "[+] 'MA HUANG' found in Dragon-TCM\n",
      "[+] 'CHA YE' found in Dragon-TCM\n",
      "[+] 'LV DOU' found in Dragon-TCM\n"
     ]
    }
   ],
   "source": [
    "# Retrieve the names of the herbs to be looked up in Dragon-TCM\n",
    "herb_annots = [x.pref_name for x in floral_fla.herbs]\n",
    "# Look up their counterparts in Dragon-TCM\n",
    "other_names = []\n",
    "name_mapper = con.cross_mappings['herbs'][('BATMAN', 'American Dragon')]\n",
    "for i in herb_annots:\n",
    "    if i in name_mapper:\n",
    "        other_names.append(name_mapper[i])\n",
    "        print(f\"[+] '{i.upper()}' found in Dragon-TCM\")\n",
    "    else:\n",
    "        print(f\"[-] '{i}' not found in Dragon-TCM\")\n",
    "# Prepare all information about the herbs for export\n",
    "herb_annots = [con.dbs['American Dragon'].herbs[x].serialize() for x in other_names]"
   ]
  },
  {
   "cell_type": "markdown",
   "id": "f1536097",
   "metadata": {},
   "source": [
    "You may now save the novel designed formulas for further research"
   ]
  },
  {
   "cell_type": "code",
   "execution_count": 62,
   "id": "6811a13d",
   "metadata": {},
   "outputs": [],
   "source": [
    "with open('./31Oct2024_floral_fla_annots.json', 'w') as f:\n",
    "    json.dump(herb_annots, f, indent=4)"
   ]
  },
  {
   "cell_type": "markdown",
   "id": "4c765b06",
   "metadata": {},
   "source": [
    "*You may now proceed to the [next notebook](./2.TCMxPlore%20Agent%20Annotation.ipynb) in which we demonstrate how AI agents can be used to personalize such formulas*"
   ]
  }
 ],
 "metadata": {
  "kernelspec": {
   "display_name": "agents",
   "language": "python",
   "name": "agents"
  },
  "language_info": {
   "codemirror_mode": {
    "name": "ipython",
    "version": 3
   },
   "file_extension": ".py",
   "mimetype": "text/x-python",
   "name": "python",
   "nbconvert_exporter": "python",
   "pygments_lexer": "ipython3",
   "version": "3.12.7"
  }
 },
 "nbformat": 4,
 "nbformat_minor": 5
}
