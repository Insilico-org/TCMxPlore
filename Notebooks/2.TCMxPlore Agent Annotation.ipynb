{
 "cells": [
  {
   "cell_type": "markdown",
   "id": "title-cell",
   "metadata": {},
   "source": [
    "# Traditional Chinese Medicine Tools Demo\n",
    "\n",
    "This notebook demonstrates how to leverage TCM tools for analyzing and querying traditional Chinese medicine information from multiple databases. We'll explore:\n",
    "\n",
    "- Querying herb and formula information from TCM databases\n",
    "- Creating customized herbal formulas\n",
    "- Analyzing herb properties and interactions\n",
    "- Generating patient-specific recommendations\n",
    "\n",
    "## Prerequisites\n",
    "- OpenAI API key in `.env` file\n",
    "- `just-agents` library installed\n",
    "- Python 3.11 environment"
   ]
  },
  {
   "cell_type": "code",
   "execution_count": 1,
   "id": "setup-cell",
   "metadata": {},
   "outputs": [],
   "source": [
    "# Load environment variables and core dependencies\n",
    "from dotenv import load_dotenv\n",
    "load_dotenv()  # This loads OpenAI API key from .env\n",
    "\n",
    "# Import required libraries\n",
    "from just_agents.base_agent import BaseAgent\n",
    "import json\n",
    "from agents.tcm_crew import TCMTools, find_TCM_herb, find_TCM_condition"
   ]
  },
  {
   "cell_type": "markdown",
   "id": "tcm-tools-intro",
   "metadata": {},
   "source": [
    "## Initialize TCM Tools\n",
    "\n",
    "`TCMTools` will load necessary data from HuggingFace. This includes:\n",
    "- BATMAN-TCM database\n",
    "- DragonTCM dataset\n",
    "- Cross-reference mappings\n",
    "\n",
    "First initialization may take several minutes to download and cache the data.\n",
    "After initialization, `TCMTools` will be accessible to the all tools your TCM agent has access to. "
   ]
  },
  {
   "cell_type": "code",
   "execution_count": 2,
   "id": "tcm-tools-init",
   "metadata": {},
   "outputs": [
    {
     "name": "stderr",
     "output_type": "stream",
     "text": [
      "/home/f.galkin/miniconda3/envs/agents/lib/python3.12/site-packages/tqdm/auto.py:21: TqdmWarning: IProgress not found. Please update jupyter and ipywidgets. See https://ipywidgets.readthedocs.io/en/stable/user_install.html\n",
      "  from .autonotebook import tqdm as notebook_tqdm\n"
     ]
    },
    {
     "name": "stdout",
     "output_type": "stream",
     "text": [
      "📂 Accessing HuggingFace repository...\n",
      "✅ Connector for BATMAN-TCM2 and DragonTCM has been loaded\n",
      "Start processing individual databases:\n",
      "Adding cross mappings\n",
      "Done adding cross mappings\n",
      "Adding equivalents\n",
      "Done adding equivalents\n",
      "Loading DB: BATMAN\n",
      "⚠️ Loading this dataset usually takes ~3-5 minutes.\n",
      "⏳ Downloading compressed database file from HuggingFace...\n",
      "📂 Database file downloaded, now decompressing and loading...\n",
      "✅ JSON file has been read!\n",
      "Loading the DB into memory...\n",
      "✅ Database has been loaded successfully!\n",
      "Uploaded DB: BATMAN\n",
      "Loading DB: American Dragon\n",
      "Added 1044 herbs\n",
      "Added 1119 conditions\n",
      "Added 2580 formulas\n",
      "Uploaded DB: American Dragon\n",
      "Adding word maps\n",
      "Done adding word maps\n",
      "from_huggingface execution time: 50.81 seconds\n"
     ]
    }
   ],
   "source": [
    "# Initialize TCM toolset with database connections\n",
    "tcm_tools = TCMTools()\n",
    "\n",
    "# Download and initialize databases\n",
    "tcm_tools.initialize()"
   ]
  },
  {
   "cell_type": "markdown",
   "id": "formula-setup-intro",
   "metadata": {},
   "source": [
    "## Formula Analysis Setup\n",
    "\n",
    "We'll analyze a custom herbal formula and create personalized recommendations based on patient profile.\n",
    "The formula components are stored in a JSON file that we've obtained in the [previous demo notebook](1.TCMxPlore%20Agent%20Annotation.ipynb).\n",
    "\n",
    "To make the final agent output more relevant, we'll use two agents:\n",
    "1. An agent that frames a patien't health situation in the context of TCM;\n",
    "2. An agent that uses this information and a given formula to modify it for this particular patient;\n",
    "3. An agent that distills all the specifics of the case into one prescription."
   ]
  },
  {
   "cell_type": "code",
   "execution_count": 3,
   "id": "formula-setup",
   "metadata": {},
   "outputs": [],
   "source": [
    "# Load formula components from JSON file\n",
    "with open(\"./31Oct2024_floral_fla_annots.json\") as f:\n",
    "    herbal_fla = json.load(f)\n",
    "    \n",
    "# Extract herb names from the formula data\n",
    "components = [x['init']['preferred_name'] for x in herbal_fla]\n",
    "\n",
    "# Define a sample patient profile for personalized recommendations\n",
    "person = '''30 year old white male with sedentary lifestyle,\n",
    "           BMI=21, suffering from IBD and headaches'''\n",
    "\n",
    "# Define the task for the agent that will provide TCM context for any conditions\n",
    "# present in the patient\n",
    "physician_task = f'''\n",
    "You are consulting a patient with the following profile {person}.\n",
    "Retrieve information about their medical conditions from a database of diseases explained in TCM terms \n",
    "and format it as a reference for a TCM practitioner who will use it to design a herbal formula for the \n",
    "patient. You may try looking up for different wording used to describe the conditions in the patient's \n",
    "anamnesis (e.g. full names instead of abbreviations)\n",
    "\n",
    "In your report present:\n",
    "- herbs that fit the patient's profile the best (<5 herbs);\n",
    "- general TCM principles that need to be counteracted in the patient;\n",
    "- herbs that need to be avoided by this person.\n",
    "\n",
    "\n",
    "'''\n",
    "\n",
    "# Create detailed the task description for formula modification\n",
    "tcm_task = f\"\"\"\n",
    "You are a TCM practitioner analyzing a formula with herbs: \n",
    "{components}. \n",
    "Consult with databases to gain more understanding of the components of this formula.\n",
    "\n",
    "This formula will be given to {person}\n",
    "\n",
    "In your description of a recipe, provide a breakdown of:\n",
    "* Dosages of all herbs to be included in a formula (weight and form of component, skip detailed explanations);\n",
    "* Formula consumption regimen (before or after food, times per day, maximal dose, \n",
    "recommended dose, course duration, time of the day to take it)\n",
    "* Indications and conditions that this formula may help with;\n",
    "* Actions of this formula explained in TCM forms;\n",
    "* Contraindications for this formula\n",
    "* How it may affect the basic aging processes in a human body\n",
    "* Modifications: Suggest 1-2 other herbs for the patient to consider to address their particular needs.\n",
    "\n",
    "Consider the patient's specific needs, how various herbs can affect any preexisting conditions,\n",
    "and suggest modfications to the original formula that are based on the following information from \n",
    "their personal physician: \n",
    "%s\n",
    "\n",
    "\"\"\"\n",
    "\n",
    "pharmacy_task = f\"\"\"\n",
    "Given the detailed overview of TCM recommendations given to the patient ({person}), present an \n",
    "\"optimal formula\" the patient can take to a TCM pharmacy, which considers all the facts \n",
    "and specifics of their case.\n",
    "\n",
    "Here are the details of their case:\n",
    "%s\n",
    "\n",
    "The optimal formula needs to be brief and contain exact amounts and forms of all ingredients for a \n",
    "pharmacist to prepare the final product. Provide minimalistic output with minimal commentary on decisions \n",
    "made.\n",
    "\"\"\""
   ]
  },
  {
   "cell_type": "markdown",
   "id": "agent-setup-intro",
   "metadata": {},
   "source": [
    "## Configure AI Agent\n",
    "\n",
    "We'll use GPT-4 Turbo with our TCM tools to analyze the formula, relying on the convenient syntaxis defined in the [just-agents](https://github.com/longevity-genie/just-agents/tree/main) library.\n",
    "\n",
    "The agents combine:\n",
    "- Language model capabilities\n",
    "- Structured database access\n",
    "- Clinical reasoning tools"
   ]
  },
  {
   "cell_type": "code",
   "execution_count": 4,
   "id": "agent-setup",
   "metadata": {},
   "outputs": [],
   "source": [
    "# Configure GPT-4 Turbo settings\n",
    "GPT4TURBO = {\n",
    "    \"model\": \"gpt-4-turbo-preview\",\n",
    "    \"temperature\": 0.4,  # Lower temperature for more focused outputs\n",
    "    \"tools\": []\n",
    "}\n",
    "\n",
    "personal_physician = BaseAgent(\n",
    "                    llm_options=GPT4TURBO,\n",
    "                    tools=[find_TCM_condition], # Define the functions this agent may call\n",
    "                    completion_max_tries=3 # Retry failed completions\n",
    "                )\n",
    "\n",
    "tcm_doctor = BaseAgent(\n",
    "                    llm_options=GPT4TURBO,\n",
    "                    tools=[find_TCM_herb], \n",
    "                    completion_max_tries=3  \n",
    "                )\n",
    "\n",
    "tcm_pharmacist = BaseAgent(\n",
    "                    llm_options=GPT4TURBO,\n",
    "                    tools=[find_TCM_herb, find_TCM_condition], \n",
    "                    completion_max_tries=3  \n",
    "                )"
   ]
  },
  {
   "cell_type": "markdown",
   "id": "analysis-intro",
   "metadata": {},
   "source": [
    "## Generate Formula Analysis\n",
    "\n",
    "Now we'll generate a comprehensive analysis of our formula using the configured agent.\n",
    "The analysis will include dosage recommendations, safety considerations, and patient-specific modifications.\n",
    "\n",
    "The agents will receive information sequentially to help each other provide more relevant recommendations."
   ]
  },
  {
   "cell_type": "code",
   "execution_count": 5,
   "id": "analysis-generation",
   "metadata": {},
   "outputs": [
    {
     "name": "stdout",
     "output_type": "stream",
     "text": [
      "CPU times: user 79.3 ms, sys: 215 μs, total: 79.5 ms\n",
      "Wall time: 57.4 s\n"
     ]
    }
   ],
   "source": [
    "%%time\n",
    "# 1. Ask the physician to provide context for the patient's health\n",
    "exam_result = personal_physician.query(physician_task)\n",
    "# 2. Ask the TCM specialist to adjust the formula for the patient\n",
    "tcm_result = tcm_doctor.query(tcm_task%exam_result)\n",
    "# 3. Ask the pharmacist to distill the established context into a brief TCM formula\n",
    "prescription = tcm_pharmacist.query(pharmacy_task%tcm_result)"
   ]
  },
  {
   "cell_type": "markdown",
   "id": "81b387b6",
   "metadata": {},
   "source": [
    "You may now inspect the output of the two agents:"
   ]
  },
  {
   "cell_type": "code",
   "execution_count": 6,
   "id": "cfeaf2b8",
   "metadata": {},
   "outputs": [
    {
     "name": "stdout",
     "output_type": "stream",
     "text": [
      "Based on the information retrieved from the TCM database regarding Inflammatory Bowel Disease (IBD) and headaches, here is a reference for a TCM practitioner to design a herbal formula for the patient. This 30-year-old white male with a sedentary lifestyle, a BMI of 21, suffering from IBD and headaches, will benefit from a careful selection of herbs, adherence to general TCM principles, and avoidance of certain herbs that may exacerbate his conditions.\n",
      "\n",
      "### Herbs that Fit the Patient's Profile Best\n",
      "\n",
      "1. **Bai Zhu (Atractylodes macrocephala)** - Supports the spleen and stomach, aids in digestion, and addresses dampness, which can be beneficial for IBD.\n",
      "2. **Huang Qin (Scutellaria baicalensis)** - Has anti-inflammatory properties and can help with both IBD and headaches caused by heat.\n",
      "3. **Chuan Xiong (Ligusticum wallichii)** - Moves Qi and Blood, alleviating pain, making it suitable for headaches.\n",
      "4. **Ge Gen (Pueraria lobata)** - Releases the exterior and muscle layer, beneficial for headaches due to external pathogens.\n",
      "5. **Sheng Jiang (Fresh Ginger, Zingiber officinale)** - Harmonizes the stomach, expels cold, and can help with digestive issues and headaches.\n",
      "\n",
      "### General TCM Principles to Counteract\n",
      "\n",
      "- **Harmonize the Spleen and Stomach**: Strengthening the digestive system is crucial for managing IBD in TCM terms.\n",
      "- **Dispel Dampness**: Dampness can exacerbate IBD symptoms, so using herbs that eliminate dampness and promote diuresis can be beneficial.\n",
      "- **Move Qi and Blood**: Ensuring the smooth flow of Qi and Blood can help alleviate headache symptoms.\n",
      "- **Clear Heat**: If the headaches are associated with heat, using herbs that clear heat can provide relief.\n",
      "\n",
      "### Herbs to Avoid\n",
      "\n",
      "- **Hot and Spicy Herbs**: Such as Fu Zi (Aconitum carmichaelii) and Gan Jiang (Dried Ginger, Zingiber officinale), which can aggravate IBD symptoms by increasing heat and irritation in the intestines.\n",
      "- **Herbs that are too Cooling**: Extremely cooling herbs might exacerbate symptoms if the patient has an underlying yang deficiency or if the headaches are due to cold invasion.\n",
      "- **Herbs with Strong Laxative Properties**: Such as Da Huang (Rheum palmatum), which can irritate the bowels and worsen IBD symptoms.\n",
      "\n",
      "This tailored approach considers the patient's specific TCM diagnosis, aiming to address the root causes of his conditions while promoting overall balance and well-being. It's important for the TCM practitioner to adjust the formula based on the patient's response and any changes in his condition.\n"
     ]
    }
   ],
   "source": [
    "print(exam_result)"
   ]
  },
  {
   "cell_type": "code",
   "execution_count": 7,
   "id": "3be502b9",
   "metadata": {},
   "outputs": [
    {
     "name": "stdout",
     "output_type": "stream",
     "text": [
      "Based on the information retrieved from the TCM database, here is a detailed breakdown of the original formula consisting of Ren Shen, Lu Dou, and Ma Huang, tailored for a 30-year-old male with a sedentary lifestyle, BMI=21, suffering from IBD and headaches. Additionally, modifications are suggested to address the patient's specific needs.\n",
      "\n",
      "### Original Formula Components\n",
      "\n",
      "1. **Ren Shen (Ginseng Root)**\n",
      "   - **Dosage**: Decoction: 1-9g; Powder: 0.5-1g; Tincture: 0.25-10ml\n",
      "   - **Actions**: Tonifies Yuan Qi, Spleen, and Stomach Qi; generates body fluids; calms the spirit.\n",
      "   - **Contraindications**: Yin deficiency with heat signs, hypertension, early stages of bleeding disorders.\n",
      "\n",
      "2. **Lu Dou (Mung Bean)**\n",
      "   - **Dosage**: Dry: 15-30g\n",
      "   - **Actions**: Resolves summerheat, clears heat, relieves toxins.\n",
      "   - **Contraindications**: Loose stools or diarrhea; not to be used unless there is heat.\n",
      "\n",
      "3. **Ma Huang (Ephedra Stem)**\n",
      "   - **Dosage**: Dry: 1.5-10g; Tincture: 1-3ml\n",
      "   - **Actions**: Induces sweating, releases the exterior, promotes urination, reduces edema.\n",
      "   - **Contraindications**: Liver Yang rising, Yin deficiency fire, pregnancy, hypertension.\n",
      "\n",
      "### Formula Consumption Regimen\n",
      "\n",
      "- **Recommended Dose**: Follow the individual dosages for decoction.\n",
      "- **Times Per Day**: Twice daily.\n",
      "- **Course Duration**: 10-14 days, then reassess.\n",
      "- **Time of Day**: Morning and evening.\n",
      "- **Before or After Food**: After food to minimize potential gastrointestinal discomfort.\n",
      "\n",
      "### Indications and Conditions\n",
      "\n",
      "This formula may help with conditions related to Qi deficiency, such as fatigue, digestive issues, and for the prevention of summerheat syndromes. It may also provide symptomatic relief for colds and flu by promoting sweating and reducing edema.\n",
      "\n",
      "### Actions in TCM Terms\n",
      "\n",
      "- **Ren Shen**: Tonifies Qi, particularly Yuan Qi, supporting the fundamental energy necessary for all bodily functions.\n",
      "- **Lu Dou**: Clears heat and detoxifies, particularly useful in summerheat conditions.\n",
      "- **Ma Huang**: Releases the exterior and helps with cold symptoms by promoting sweating.\n",
      "\n",
      "### Contraindications\n",
      "\n",
      "Given the patient's condition of IBD and headaches, caution is advised with Ma Huang due to its potential to exacerbate hypertension and cause restlessness, which could negatively impact IBD and headaches.\n",
      "\n",
      "### Effects on Aging Processes\n",
      "\n",
      "This formula primarily supports Qi, which in TCM is essential for all life processes. By tonifying Qi and managing body fluids, it indirectly supports the body's resistance to certain aging processes, such as energy decline and vulnerability to external pathogens.\n",
      "\n",
      "### Modifications\n",
      "\n",
      "Given the patient's specific needs, the following herbs are suggested:\n",
      "\n",
      "1. **Bai Zhu (Atractylodes macrocephala)**: Supports the spleen and stomach, aiding in digestion and addressing dampness beneficial for IBD.\n",
      "2. **Huang Qin (Scutellaria baicalensis)**: Offers anti-inflammatory properties beneficial for IBD and headaches.\n",
      "\n",
      "These modifications aim to target the root of the patient's conditions more effectively, focusing on harmonizing the spleen and stomach, dispelling dampness, moving Qi and Blood, and clearing heat, according to the TCM principles provided.\n"
     ]
    }
   ],
   "source": [
    "print(tcm_result)"
   ]
  },
  {
   "cell_type": "code",
   "execution_count": 8,
   "id": "17b5a9d4",
   "metadata": {},
   "outputs": [
    {
     "name": "stdout",
     "output_type": "stream",
     "text": [
      "**Optimal TCM Formula for IBD and Headaches**\n",
      "\n",
      "1. **Ren Shen (Ginseng Root)**\n",
      "   - **Dosage**: 5g (decoction)\n",
      "\n",
      "2. **Lu Dou (Mung Bean)**\n",
      "   - **Dosage**: 20g (dry)\n",
      "\n",
      "3. **Ma Huang (Ephedra Stem)**\n",
      "   - **Dosage**: Avoid due to potential exacerbation of hypertension and restlessness.\n",
      "\n",
      "4. **Bai Zhu (Atractylodes macrocephala)**\n",
      "   - **Dosage**: 10g (decoction)\n",
      "\n",
      "5. **Huang Qin (Scutellaria baicalensis)**\n",
      "   - **Dosage**: 10g (decoction)\n",
      "\n",
      "**Instructions for Use**\n",
      "\n",
      "- **Dosage**: Combine the specified amounts of each herb for a single dose.\n",
      "- **Times Per Day**: Twice daily.\n",
      "- **Course Duration**: 10-14 days, then reassess.\n",
      "- **Time of Day**: Morning and evening.\n",
      "- **Before or After Food**: After food.\n",
      "- **Preparation**: Decoct Ren Shen, Bai Zhu, and Huang Qin in water for 30-40 minutes. Add Lu Dou towards the end of the boiling process.\n"
     ]
    }
   ],
   "source": [
    "print(prescription)"
   ]
  },
  {
   "cell_type": "markdown",
   "id": "debugging-intro",
   "metadata": {},
   "source": [
    "## Examine Agent Process\n",
    "\n",
    "For debugging and understanding, we can inspect how the agent arrived at its conclusions\n",
    "by examining the conversation history and tool usage."
   ]
  },
  {
   "cell_type": "code",
   "execution_count": 9,
   "id": "debugging",
   "metadata": {},
   "outputs": [
    {
     "name": "stdout",
     "output_type": "stream",
     "text": [
      "Tool execution sequence for the 'personal physician' agent:\n",
      "- find_TCM_condition: {\"query\": \"Inflammatory Bowel Disease\"}\n",
      "- find_TCM_condition: {\"query\": \"headaches\"}\n",
      "\n",
      "Tool execution sequence for the 'TCM practitioner' agent:\n",
      "- find_TCM_herb: {\"query\": \"REN SHEN\"}\n",
      "- find_TCM_herb: {\"query\": \"LU DOU\"}\n",
      "- find_TCM_herb: {\"query\": \"MA HUANG\"}\n"
     ]
    }
   ],
   "source": [
    "# Access agent memory to see tool usage\n",
    "tool_calls = personal_physician.memory.__dict__['messages'][2]\n",
    "# Display which tools were called and in what order\n",
    "print(\"Tool execution sequence for the 'personal physician' agent:\")\n",
    "for call in tool_calls['tool_calls']:\n",
    "    print(f\"- {call['function']['name']}: {call['function']['arguments']}\")\n",
    "\n",
    "tool_calls = tcm_doctor.memory.__dict__['messages'][2]\n",
    "print(\"\\nTool execution sequence for the 'TCM practitioner' agent:\")\n",
    "for call in tool_calls['tool_calls']:\n",
    "    print(f\"- {call['function']['name']}: {call['function']['arguments']}\")\n",
    "    \n",
    "# the pharmacist agent made no tool calls"
   ]
  },
  {
   "cell_type": "markdown",
   "id": "e2d1db6b",
   "metadata": {},
   "source": [
    "Notice that the initial formula contained ephedra, which was removed due to the patient's complaints about headaches. This brief workflow shows how AI agents can provide extra personalization and adjust the formulas designed based on rigid scripts."
   ]
  }
 ],
 "metadata": {
  "kernelspec": {
   "display_name": "agents",
   "language": "python",
   "name": "agents"
  },
  "language_info": {
   "codemirror_mode": {
    "name": "ipython",
    "version": 3
   },
   "file_extension": ".py",
   "mimetype": "text/x-python",
   "name": "python",
   "nbconvert_exporter": "python",
   "pygments_lexer": "ipython3",
   "version": "3.12.7"
  }
 },
 "nbformat": 4,
 "nbformat_minor": 5
}
