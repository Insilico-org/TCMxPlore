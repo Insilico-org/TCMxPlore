{
 "cells": [
  {
   "cell_type": "markdown",
   "id": "dd524530",
   "metadata": {},
   "source": [
    "# TCMxPlore:\n",
    "## discovering anti-aging TCM formulas with bioinformatics and generative AI\n",
    "\n",
    "This notebook will walk you through key functions of TCMxPlore. You will start with a list of aging-related genes obtained from a generative biology model [Precious3GPT](https://github.com/insilicomedicine/precious3-gpt/tree/main), then screen natural compounds recorded in [BATMAN-TCM2](https://doi.org/10.57967/hf/3314) to select the molecules that interact with these targets. Finally, you will find TCM herbs and formulas that contain the compounds and read more about their properties in the context of TCM practice."
   ]
  },
  {
   "cell_type": "markdown",
   "id": "dd089f24",
   "metadata": {},
   "source": [
    "Firstly, install TCMxPlore and import the `connector` module.\n",
    "It will allow you to download, parse, and cross-reference TCM entities, such as molecular targets, ingredients, herbs, formulas, and conditions."
   ]
  },
  {
   "cell_type": "code",
   "execution_count": 1,
   "id": "7207c474",
   "metadata": {},
   "outputs": [],
   "source": [
    "from connector import connector\n",
    "\n",
    "import pickle, json\n",
    "import pandas as pd\n",
    "from itertools import product"
   ]
  },
  {
   "cell_type": "markdown",
   "id": "9238eb17",
   "metadata": {},
   "source": [
    "`BatmanDragonConnector` in particular will download and unpack Hugging Face datasets you need.\n",
    "Depending on your Internet speed, pre-processing can take some time."
   ]
  },
  {
   "cell_type": "code",
   "execution_count": 2,
   "id": "2a7c3f9a",
   "metadata": {},
   "outputs": [
    {
     "name": "stderr",
     "output_type": "stream",
     "text": [
      "/home/f.galkin/miniconda3/envs/agents/lib/python3.12/site-packages/tqdm/auto.py:21: TqdmWarning: IProgress not found. Please update jupyter and ipywidgets. See https://ipywidgets.readthedocs.io/en/stable/user_install.html\n",
      "  from .autonotebook import tqdm as notebook_tqdm\n"
     ]
    },
    {
     "name": "stdout",
     "output_type": "stream",
     "text": [
      "📂 Accessing HuggingFace repository...\n",
      "✅ Connector for BATMAN-TCM2 and DragonTCM has been loaded\n",
      "Start processing individual databases:\n",
      "Adding cross mappings\n",
      "Done adding cross mappings\n",
      "Adding equivalents\n",
      "Done adding equivalents\n",
      "Loading DB: BATMAN\n",
      "⚠️ Loading this dataset usually takes ~3-5 minutes.\n",
      "⏳ Downloading compressed database file from HuggingFace...\n",
      "📂 Database file downloaded, now decompressing and loading...\n",
      "✅ JSON file has been read!\n",
      "Loading the DB into memory...\n",
      "✅ Database has been loaded successfully!\n",
      "Uploaded DB: BATMAN\n",
      "Loading DB: American Dragon\n",
      "Added 1044 herbs\n",
      "Added 1119 conditions\n",
      "Added 2580 formulas\n",
      "Uploaded DB: American Dragon\n",
      "Adding word maps\n",
      "Done adding word maps\n",
      "from_huggingface execution time: 51.90 seconds\n"
     ]
    }
   ],
   "source": [
    "con = connector.BatmanDragonConnector.from_huggingface()"
   ]
  },
  {
   "cell_type": "markdown",
   "id": "28aa1016",
   "metadata": {},
   "source": [
    "You can access and work within idndividual TCM databases stored in the connector."
   ]
  },
  {
   "cell_type": "code",
   "execution_count": 3,
   "id": "58102a9f",
   "metadata": {},
   "outputs": [],
   "source": [
    "batman_db = con.dbs['BATMAN']\n",
    "dragon_db = con.dbs['American Dragon']"
   ]
  },
  {
   "cell_type": "markdown",
   "id": "c68ead09",
   "metadata": {},
   "source": [
    "Now, load the files that will serve as the foundation of our TCM exploration:\n",
    "- `aging_signatures.txt` — species- and tissue-specific signatures of aging. Basically, lists with top-100 genes that are upregulated in older age groups, as assessed by the Precious3GPT AI model;\n",
    "- `P3GPT_compound_targets.pckl` — list of compounds that are featured in both Precious3GPT and BATMAN-TCM2, natural compounds whose effect on gene expression may be estimated using generative AI; "
   ]
  },
  {
   "cell_type": "code",
   "execution_count": 4,
   "id": "60009b6e",
   "metadata": {},
   "outputs": [],
   "source": [
    "p_signs = './materials/aging_signatures.txt'\n",
    "p_cpd_filter = \"./materials/P3GPT_compound_targets.pckl\"\n",
    "\n",
    "with open(p_cpd_filter, \"rb\") as f:\n",
    "    cpd_filter = pickle.load(f)\n",
    "results = pd.read_csv(p_signs, sep='\\t', index_col=None, header=0)"
   ]
  },
  {
   "cell_type": "code",
   "execution_count": 5,
   "id": "15af6c63",
   "metadata": {},
   "outputs": [
    {
     "data": {
      "text/html": [
       "<div>\n",
       "<style scoped>\n",
       "    .dataframe tbody tr th:only-of-type {\n",
       "        vertical-align: middle;\n",
       "    }\n",
       "\n",
       "    .dataframe tbody tr th {\n",
       "        vertical-align: top;\n",
       "    }\n",
       "\n",
       "    .dataframe thead th {\n",
       "        text-align: right;\n",
       "    }\n",
       "</style>\n",
       "<table border=\"1\" class=\"dataframe\">\n",
       "  <thead>\n",
       "    <tr style=\"text-align: right;\">\n",
       "      <th></th>\n",
       "      <th>tissue</th>\n",
       "      <th>dataset_type</th>\n",
       "      <th>species</th>\n",
       "      <th>control</th>\n",
       "      <th>case</th>\n",
       "      <th>direction</th>\n",
       "      <th>hallmarks</th>\n",
       "    </tr>\n",
       "  </thead>\n",
       "  <tbody>\n",
       "    <tr>\n",
       "      <th>0</th>\n",
       "      <td>skin</td>\n",
       "      <td>methylation</td>\n",
       "      <td>mouse</td>\n",
       "      <td>Mouse-19.95-30</td>\n",
       "      <td>Mouse-350-400</td>\n",
       "      <td>up</td>\n",
       "      <td>LOC100270710;GABRP;KRTAP5-7;IL2RG;CSMD2;IL1RL2...</td>\n",
       "    </tr>\n",
       "    <tr>\n",
       "      <th>1</th>\n",
       "      <td>skin</td>\n",
       "      <td>methylation</td>\n",
       "      <td>human</td>\n",
       "      <td>19.95-25.0</td>\n",
       "      <td>70.0-80.0</td>\n",
       "      <td>up</td>\n",
       "      <td>C11orf90;LPAR1;LOC100270710;BANF2;LOR;MYF6;OBP...</td>\n",
       "    </tr>\n",
       "    <tr>\n",
       "      <th>2</th>\n",
       "      <td>skin</td>\n",
       "      <td>expression</td>\n",
       "      <td>mouse</td>\n",
       "      <td>Mouse-19.95-30</td>\n",
       "      <td>Mouse-350-400</td>\n",
       "      <td>up</td>\n",
       "      <td>UTY;CD1A;AKR1C4;PLEKHG1;CALCRL;SLC22A7;SLC17A7...</td>\n",
       "    </tr>\n",
       "    <tr>\n",
       "      <th>3</th>\n",
       "      <td>skin</td>\n",
       "      <td>expression</td>\n",
       "      <td>human</td>\n",
       "      <td>19.95-25.0</td>\n",
       "      <td>70.0-80.0</td>\n",
       "      <td>up</td>\n",
       "      <td>SLC1A1;KRT15;BBOX1;CYP2B6;KDM5D;SELENOP;UTY;CD...</td>\n",
       "    </tr>\n",
       "    <tr>\n",
       "      <th>4</th>\n",
       "      <td>liver</td>\n",
       "      <td>methylation</td>\n",
       "      <td>mouse</td>\n",
       "      <td>Mouse-19.95-30</td>\n",
       "      <td>Mouse-350-400</td>\n",
       "      <td>up</td>\n",
       "      <td>CD101;PM20D1;NAPSB;PCDH12;LOC100132724;NRG4;LR...</td>\n",
       "    </tr>\n",
       "  </tbody>\n",
       "</table>\n",
       "</div>"
      ],
      "text/plain": [
       "  tissue dataset_type species         control           case direction  \\\n",
       "0   skin  methylation   mouse  Mouse-19.95-30  Mouse-350-400        up   \n",
       "1   skin  methylation   human      19.95-25.0      70.0-80.0        up   \n",
       "2   skin   expression   mouse  Mouse-19.95-30  Mouse-350-400        up   \n",
       "3   skin   expression   human      19.95-25.0      70.0-80.0        up   \n",
       "4  liver  methylation   mouse  Mouse-19.95-30  Mouse-350-400        up   \n",
       "\n",
       "                                           hallmarks  \n",
       "0  LOC100270710;GABRP;KRTAP5-7;IL2RG;CSMD2;IL1RL2...  \n",
       "1  C11orf90;LPAR1;LOC100270710;BANF2;LOR;MYF6;OBP...  \n",
       "2  UTY;CD1A;AKR1C4;PLEKHG1;CALCRL;SLC22A7;SLC17A7...  \n",
       "3  SLC1A1;KRT15;BBOX1;CYP2B6;KDM5D;SELENOP;UTY;CD...  \n",
       "4  CD101;PM20D1;NAPSB;PCDH12;LOC100132724;NRG4;LR...  "
      ]
     },
     "execution_count": 5,
     "metadata": {},
     "output_type": "execute_result"
    }
   ],
   "source": [
    "results.head()"
   ]
  },
  {
   "cell_type": "code",
   "execution_count": 6,
   "id": "8f7f48a2",
   "metadata": {},
   "outputs": [
    {
     "data": {
      "text/plain": [
       "659"
      ]
     },
     "execution_count": 6,
     "metadata": {},
     "output_type": "execute_result"
    }
   ],
   "source": [
    "len(cpd_filter)"
   ]
  },
  {
   "cell_type": "markdown",
   "id": "06e16ba7",
   "metadata": {},
   "source": [
    "📝 We advise you to check out this [library](https://github.com/insilicomedicine/precious3-gpt) that we used to generate the aging signatures shown above.\n",
    "It is not necessary to work with this notebook, but many functions, such as gene list intersection and pathway enrichment, are handled much more easily within `precious3gpt`."
   ]
  },
  {
   "cell_type": "markdown",
   "id": "e01c8b2d",
   "metadata": {},
   "source": [
    "## Using cross-species aging halmarks to select TCM formulas\n",
    "We will define genes to be target with TCM herbs as genes that appear in both human and murine aging signatures. "
   ]
  },
  {
   "cell_type": "code",
   "execution_count": 7,
   "id": "bfc8a3c8",
   "metadata": {},
   "outputs": [],
   "source": [
    "params = {\"tissue\": ['liver', 'muscle', 'lung'],\n",
    "          \"dataset_type\": ['expression'],\n",
    "          \"species\": ['mouse', 'human']}"
   ]
  },
  {
   "cell_type": "code",
   "execution_count": 8,
   "id": "85d5a0e4",
   "metadata": {},
   "outputs": [],
   "source": [
    "sibling_generations = list(product(*[[(x, z) for z in y] for x, y in params.items()][:2]))\n",
    "\n",
    "signature_genes = dict()\n",
    "for t in params['tissue']:\n",
    "    df_slice = results[(results.tissue == t) & (results.dataset_type == 'expression')]\n",
    "    signature_genes[t] = set.intersection(*[set(x.split(\";\")) for x in df_slice.hallmarks.tolist()])\n"
   ]
  },
  {
   "cell_type": "markdown",
   "id": "03a9e0a7",
   "metadata": {},
   "source": [
    "Aging signatures for mice and humans have a substantial intersection in the three tried tissues:"
   ]
  },
  {
   "cell_type": "code",
   "execution_count": 9,
   "id": "e4054f07",
   "metadata": {},
   "outputs": [
    {
     "data": {
      "text/plain": [
       "{'liver': 33, 'muscle': 22, 'lung': 27}"
      ]
     },
     "execution_count": 9,
     "metadata": {},
     "output_type": "execute_result"
    }
   ],
   "source": [
    "{x:len(y) for x,y in signature_genes.items()}"
   ]
  },
  {
   "cell_type": "markdown",
   "id": "9bbe9bb9",
   "metadata": {},
   "source": [
    "First, we look for the compounds whose targets (both known and predicted) significantly overlap with the identified signature genes: "
   ]
  },
  {
   "cell_type": "code",
   "execution_count": 10,
   "id": "471553b2",
   "metadata": {},
   "outputs": [
    {
     "name": "stdout",
     "output_type": "stream",
     "text": [
      "\n",
      "Compounds targetting liver aging in mice and humans:\n",
      "Cholic acid; Deoxycholic acid; Honokiol; Indobufen; Sorbic acid... (total N = 90)\n",
      "\n",
      "Compounds targetting muscle aging in mice and humans:\n",
      "Cyclosporin a; Nomegestrol; Cholic acid; Riboflavin; Honokiol... (total N = 27)\n",
      "\n",
      "Compounds targetting lung aging in mice and humans:\n",
      "Docosanoic acid; Arachidic acid; Vitamin e; Triamcinolone; L-glutamic acid... (total N = 25)\n"
     ]
    }
   ],
   "source": [
    "picked_cpds = dict()\n",
    "for t in params['tissue']:\n",
    "    picked_cpds[t] = batman_db.find_enriched_cpds(\n",
    "                                  signature_genes[t], # genes to be targeted by natural compounds\n",
    "                                  tg_type='both', # consider both known and predicted molecular targets\n",
    "                                  thr=0.01, # significance threshold, with multiple comparison\n",
    "                                  cpd_subset=cpd_filter # consider only compounds known to P3GPT\n",
    "                                                )\n",
    "    print(f\"\\nCompounds targetting {t} aging in mice and humans:\\n\"\n",
    "          f\"{'; '.join([x['name'].capitalize() for x in picked_cpds[t].values()][-5:])}... (total N = {len(picked_cpds[t])})\")\n",
    "\n",
    "with open(\"./materials/27Oct2024_picked_cpds_cross-species.pkl\", \"wb\") as f:\n",
    "    pickle.dump(picked_cpds, f)"
   ]
  },
  {
   "cell_type": "markdown",
   "id": "660943d7",
   "metadata": {},
   "source": [
    "Among these compounds, eight appear for all three tissues:"
   ]
  },
  {
   "cell_type": "code",
   "execution_count": 11,
   "id": "eb0d6325",
   "metadata": {},
   "outputs": [
    {
     "name": "stdout",
     "output_type": "stream",
     "text": [
      "CID\tCompound name\n",
      "(10467, 'Arachidic acid')\n",
      "(936, 'nicotinamide')\n",
      "(177, 'acetate')\n",
      "(243, 'benzoate')\n",
      "(8215, 'Docosanoic acid')\n",
      "(2266, 'nonanedioic acid')\n",
      "(1054, 'pyridoxine')\n",
      "(3647, 'hydroflumethiazide')\n"
     ]
    }
   ],
   "source": [
    "multitis_cpds = set.intersection(*[set(picked_cpds[x].keys()) for x in params['tissue']])\n",
    "print(\"CID\\tCompound name\")\n",
    "print(*[(x, batman_db.ingrs[x].pref_name) for x in multitis_cpds], sep = '\\n')"
   ]
  },
  {
   "cell_type": "markdown",
   "id": "e427b344",
   "metadata": {},
   "source": [
    "We can now easily identify the formulas from BATMAN-TCM2 that contain all eight by inspecting their ingredients:"
   ]
  },
  {
   "cell_type": "code",
   "execution_count": 12,
   "id": "908531c3",
   "metadata": {},
   "outputs": [
    {
     "name": "stdout",
     "output_type": "stream",
     "text": [
      "SHEN RONG LU TAI GAO\n"
     ]
    }
   ],
   "source": [
    "flas_w_all_cpds = [x for x,y in batman_db.formulas.items() if \n",
    "                   all([z in [a.cid for a in y.ingrs] for z in multitis_cpds])]\n",
    "print(*flas_w_all_cpds, sep=\"\\n\")"
   ]
  },
  {
   "cell_type": "markdown",
   "id": "9f06ccc5",
   "metadata": {},
   "source": [
    "There is only one such formula: [SHEN RONG LU TAI GAO](http://www.tcmip.cn/ETCM/index.php/Home/Index/fj_details.html?pid=SHEN%20RONG%20LU%20TAI%20GAO), which is an ointment containing ginseng and deer placenta used to improve female reproductive health.\n",
    "\n",
    "There are alternative ways to interact with TCM databases to enable geroprotector search. E.g. we may look for formulas that have compounds affecting 2+ signatures of aging:"
   ]
  },
  {
   "cell_type": "code",
   "execution_count": 13,
   "id": "4033673c",
   "metadata": {},
   "outputs": [],
   "source": [
    "cpd_counts =  sum([list(x.keys()) for x in picked_cpds.values()], [])\n",
    "cpd_counts = [x for x in set(cpd_counts) if cpd_counts.count(x)>1]\n",
    "\n",
    "sel_flas = batman_db.select_N_formulas_by_cids(cids = cpd_counts, # look for this compounds in TCM formulas\n",
    "                                               min_cids = 20, # a formula has to have at least 20 cids\n",
    "                                               N_top = 100 # how many formulas to present\n",
    "                                              )"
   ]
  },
  {
   "cell_type": "markdown",
   "id": "c0ba5e06",
   "metadata": {},
   "source": [
    "The only formula with all 20 compounds is HUA SHAN WU ZI DAN:"
   ]
  },
  {
   "cell_type": "code",
   "execution_count": 14,
   "id": "57dc6c5d",
   "metadata": {},
   "outputs": [
    {
     "data": {
      "text/plain": [
       "(20, ['HUA SHAN WU ZI DAN'])"
      ]
     },
     "execution_count": 14,
     "metadata": {},
     "output_type": "execute_result"
    }
   ],
   "source": [
    "sel_flas"
   ]
  },
  {
   "cell_type": "markdown",
   "id": "e145ec04",
   "metadata": {},
   "source": [
    "We can inspect these 20 compounds:"
   ]
  },
  {
   "cell_type": "code",
   "execution_count": 21,
   "id": "962c3859",
   "metadata": {},
   "outputs": [
    {
     "data": {
      "text/plain": [
       "['Arachidic acid',\n",
       " 'L-ascorbic acid',\n",
       " 'Benzoate',\n",
       " 'Cholic acid',\n",
       " 'Docosanoic acid',\n",
       " 'Pseudoephedrine',\n",
       " 'Acetate',\n",
       " 'Nonanedioic acid',\n",
       " 'Butyric acid',\n",
       " 'Picolinic acid',\n",
       " 'Thiamine',\n",
       " 'Protoporphyrin ix',\n",
       " 'Chenodeoxycholic acid',\n",
       " 'Desoxycortone',\n",
       " 'Glycerol',\n",
       " 'Vitamin e',\n",
       " 'Hypoxanthine',\n",
       " 'Uric acid',\n",
       " 'Hydroflumethiazide',\n",
       " 'L-glutamic acid']"
      ]
     },
     "execution_count": 21,
     "metadata": {},
     "output_type": "execute_result"
    }
   ],
   "source": [
    "[x.pref_name.capitalize() for x in batman_db.formulas['HUA SHAN WU ZI DAN'].ingrs if x.cid in cpd_counts]"
   ]
  },
  {
   "cell_type": "markdown",
   "id": "2ca64022",
   "metadata": {},
   "source": [
    "In addition to searching for formulas based on the compounds they contain, TCMxPlore allows picking herbs based on the genes they target:"
   ]
  },
  {
   "cell_type": "code",
   "execution_count": 24,
   "id": "195c229c",
   "metadata": {},
   "outputs": [
    {
     "name": "stdout",
     "output_type": "stream",
     "text": [
      "13 genes are upregulated in at least two of tissues in mice and humans\n",
      "\n",
      "OVCH1; LBP; ACSM1; SCD; MOBP; SERPINA3; C3; SLC7A2; CFD; KRT15; MIOX; SRPX; NNMT\n",
      "\n",
      "(Herb, N targets from set)\n",
      "('SHA YUAN ZI', 7)\n",
      "('ROU CONG RONG', 7)\n",
      "('SHAN ZHA YE', 7)\n"
     ]
    }
   ],
   "source": [
    "# Get a set of genes that are present in 2+ signatures of cross-species aging \n",
    "double_tgs = ((signature_genes[\"lung\"] & signature_genes[\"liver\"]) |\n",
    "              (signature_genes[\"lung\"] & signature_genes[\"muscle\"]) |\n",
    "              (signature_genes[\"muscle\"] & signature_genes[\"liver\"]))\n",
    "print(f\"{len(double_tgs)} genes are upregulated in at least two of tissues in mice and humans\\n\")\n",
    "print(*double_tgs, sep ='; ', end=\"\\n\\n\")\n",
    "\n",
    "# With this call, you'll see how many genes each herb has as its target\n",
    "tg_based_herbs = batman_db.select_herbs_for_targets(double_tgs)\n",
    "# Finally, select only the herbs that hit the highest number of genes\n",
    "N_max = max(tg_based_herbs.values())\n",
    "tg_based_herbs = {x:y for x,y in tg_based_herbs.items() if y == N_max}\n",
    "print(\"(Herb, N targets from set)\")\n",
    "print(*tg_based_herbs.items(), sep = '\\n')"
   ]
  },
  {
   "cell_type": "markdown",
   "id": "ae7b83c0",
   "metadata": {},
   "source": [
    "You can define your own formulas locally, so they appear in your next searches:"
   ]
  },
  {
   "cell_type": "code",
   "execution_count": 25,
   "id": "87bc5ba4",
   "metadata": {},
   "outputs": [
    {
     "data": {
      "text/plain": [
       "<Formula: Custom Formula ~1>"
      ]
     },
     "execution_count": 25,
     "metadata": {},
     "output_type": "execute_result"
    }
   ],
   "source": [
    "batman_db.formulas[\"Custom Formula ~1\"] = batman_db.create_formula_from_herbs(tg_based_herbs.keys())\n",
    "batman_db.formulas[\"Custom Formula ~1\"]"
   ]
  },
  {
   "cell_type": "markdown",
   "id": "807a3010",
   "metadata": {},
   "source": [
    "## Using cross-tissue human aging halmarks to select TCM formulas\n",
    "We may focus on the herbs that are expected "
   ]
  },
  {
   "cell_type": "code",
   "execution_count": 26,
   "id": "5ff65530",
   "metadata": {},
   "outputs": [],
   "source": [
    "all_tis = ['liver', 'muscle', 'lung', 'skin', 'heart', 'kidney', 'fat tissue']\n",
    "signature_genes = dict()"
   ]
  },
  {
   "cell_type": "code",
   "execution_count": 27,
   "id": "2e5c6d3f",
   "metadata": {},
   "outputs": [],
   "source": [
    "for t in all_tis:\n",
    "    df_slice = results[(results.tissue == t) & \n",
    "                       (results.dataset_type == 'expression') & \n",
    "                       (results.species == 'human')]\n",
    "    signature_genes[t] = set.intersection(*[set(x.split(\";\")) for x in df_slice.hallmarks.tolist()])\n"
   ]
  },
  {
   "cell_type": "code",
   "execution_count": 28,
   "id": "50c8b9ad",
   "metadata": {},
   "outputs": [
    {
     "name": "stdout",
     "output_type": "stream",
     "text": [
      "Done with liver — 177 compounds picked\n",
      "Done with muscle — 160 compounds picked\n",
      "Done with lung — 162 compounds picked\n",
      "Done with skin — 143 compounds picked\n",
      "Done with heart — 132 compounds picked\n",
      "Done with kidney — 192 compounds picked\n",
      "Done with fat tissue — 147 compounds picked\n"
     ]
    }
   ],
   "source": [
    "picked_cpds = dict()\n",
    "for t in all_tis:\n",
    "    picked_cpds[t] = batman_db.find_enriched_cpds(signature_genes[t],\n",
    "                                                  tg_type='both',\n",
    "                                                  thr=0.001,\n",
    "                                                  cpd_subset=cpd_filter)\n",
    "    print(f\"Done with {t} — {len(picked_cpds[t])} compounds picked\")"
   ]
  },
  {
   "cell_type": "code",
   "execution_count": 29,
   "id": "47cad1d0",
   "metadata": {},
   "outputs": [],
   "source": [
    "cpd_counts = {x:[t for t in picked_cpds if x in picked_cpds[t]] for x in set(cpd_filter)}\n",
    "cpd_counts = {x:y for x,y in cpd_counts.items() if y}\n",
    "cpd_counts = dict(sorted(cpd_counts.items(), key=lambda x:len(x[1]), reverse=True))\n",
    "top_cpds = [x for x in cpd_counts if len(cpd_counts[x]) == 7]"
   ]
  },
  {
   "cell_type": "code",
   "execution_count": 33,
   "id": "3248bca9",
   "metadata": {},
   "outputs": [
    {
     "name": "stdout",
     "output_type": "stream",
     "text": [
      "Compounds found that affect 1+ tissues: 294\n",
      "\n",
      "Compounds found to affect exactly 1 tissues: 64\n",
      "Compounds found to affect exactly 2 tissues: 52\n",
      "Compounds found to affect exactly 3 tissues: 21\n",
      "Compounds found to affect exactly 4 tissues: 40\n",
      "Compounds found to affect exactly 5 tissues: 34\n",
      "Compounds found to affect exactly 6 tissues: 29\n",
      "Compounds found that affect all 7 tissues: 54\n",
      "\n",
      "Ethinyl estradiol\n",
      "Progesterone\n",
      "Chenodeoxycholic acid\n",
      "Adenosine 5'-monophosphate\n",
      "Menadione\n",
      "...\n"
     ]
    }
   ],
   "source": [
    "print(f\"Compounds found that affect 1+ tissues: {len(cpd_counts)}\\n\")\n",
    "for  i in range(6):\n",
    "    cpd_hits = len([x for x,y in cpd_counts.items() if len(y) == i+1])\n",
    "    print(f\"Compounds found to affect exactly {i+1} tissues: {cpd_hits}\")\n",
    "\n",
    "print(f\"Compounds found that affect all 7 tissues: {len(top_cpds)}\\n\")\n",
    "print(*[batman_db.ingrs[x].pref_name.capitalize() for x in top_cpds][-5:], sep=\"\\n\")\n",
    "print(\"...\")"
   ]
  },
  {
   "cell_type": "markdown",
   "id": "ed2f2290",
   "metadata": {},
   "source": [
    "No existing TCM formula has all the idntified compounds targetting the aging processes in 7 tissues, with the best contender [TOU GU ZHEN FENG WAN](https://bidd.group/TCMID/tcmf.php?formula=TCMFx5163) featuring only 25 such compounds."
   ]
  },
  {
   "cell_type": "code",
   "execution_count": 34,
   "id": "3ef91a8b",
   "metadata": {},
   "outputs": [
    {
     "name": "stdout",
     "output_type": "stream",
     "text": [
      "Compounds found in the best-fitting formula: 25\n",
      "Formula name: ['TOU GU ZHEN FENG WAN (TOU GU ZHEN FENG DAN )']\n"
     ]
    }
   ],
   "source": [
    "best_fla = batman_db.select_N_formulas_by_cids(top_cpds,\n",
    "                                               min_cids = 25,\n",
    "                                               N_top=1)\n",
    "print(\"Compounds found in the best-fitting formula: %s\\nFormula name: %s\"%best_fla)"
   ]
  },
  {
   "cell_type": "markdown",
   "id": "f26e57e7",
   "metadata": {},
   "source": [
    "TCMxPlore provides you with several points of control when it comes to designing new formulas.\n",
    "By default, the `get_greedy_formula(...)` method will keep adding herbs until all the sought compounds are represented in a formula. Such formulas may end up with too complicated. You may limit the total number of herbs in your formula with the `max_herb` parameter, or exclude certain herbs from consideration with the `blacklist` parameter."
   ]
  },
  {
   "cell_type": "code",
   "execution_count": 56,
   "id": "6b590bfc",
   "metadata": {},
   "outputs": [],
   "source": [
    "greedy_fla = batman_db.get_greedy_formula(top_cpds)\n",
    "# Enforce a simpler composition at the cost of including fewer compounds\n",
    "smol_fla = batman_db.get_greedy_formula(top_cpds, max_herb=4)\n",
    "# Some components may be excluded from search to avoid  potential\n",
    "# health hazards and animal-based products\n",
    "tcm_blacklist = [\"HA MA YOU\", # \"Forest frog's oviduct\n",
    "                 'XIONG DAN', # Bear gall\n",
    "                 'SHE XIANG', # Deer musk\n",
    "                 'ZI HE CHE', # Human placenta\n",
    "                 'DONG CHONG XIA CAO', # Cordyceps caterpillar,\n",
    "                 'LU RONG' # Deer antlers\n",
    "                 'JIU', # Alchol used in extraction\n",
    "                 'REN NIAO' # Human urine\n",
    "                ]\n",
    "floral_fla = batman_db.get_greedy_formula(top_cpds, max_herb=4,\n",
    "                                          blacklist = tcm_blacklist)\n",
    "# Remove restrictions on the number of compounds\n",
    "floral_fla_full = batman_db.get_greedy_formula(top_cpds, max_herb=100,\n",
    "                                               blacklist = tcm_blacklist)"
   ]
  },
  {
   "cell_type": "code",
   "execution_count": 64,
   "id": "9ed42575",
   "metadata": {},
   "outputs": [
    {
     "name": "stdout",
     "output_type": "stream",
     "text": [
      "Formula TCM-ISM-1 contains 30 ingredients which feature 54/54 of selected compounds\n",
      "\t1. Croton lechleri (carries 1 ingredients)\n",
      "\t2. Heterophylly falsestarwort root (carries 3 ingredients)\n",
      "\t3. Chinese floweringquince (carries 3 ingredients)\n",
      "\t4. Common tea (carries 5 ingredients)\n",
      "Formula TCM-ISM-2 contains 4 ingredients which feature 22/54 of selected compounds\n",
      "\t1. Ginseng (carries 5 ingredients)\n",
      "\t2. Chinese ephedra equivalent plant: ephedra equisetina  (carries 8 ingredients)\n",
      "\t3. Human placenta (carries 4 ingredients)\n",
      "\t4. Common sainfoin (carries 5 ingredients)\n",
      "Formula ISM-Formula#1 contains 30 ingredients which feature 53/54 of selected compounds\n",
      "\t1. Indigoplant leaf (carries 3 ingredients)\n",
      "\t2. Croton lechleri (carries 1 ingredients)\n",
      "\t3. Chinese floweringquince (carries 3 ingredients)\n",
      "\t4. Common tea (carries 5 ingredients)\n",
      "Formula ISM-Formula#2 contains 4 ingredients which feature 21/54 of selected compounds\n",
      "\t1. Ginseng (carries 5 ingredients)\n",
      "\t2. Chinese ephedra equivalent plant: ephedra equisetina  (carries 8 ingredients)\n",
      "\t3. Common tea (carries 5 ingredients)\n",
      "\t4. Common sainfoin (carries 5 ingredients)\n"
     ]
    }
   ],
   "source": [
    "tcm_flas = {\"TCM-ISM-1\":greedy_fla,\n",
    "            \"TCM-ISM-2\":smol_fla,\n",
    "            \"ISM-Formula#1\":floral_fla_full,\n",
    "            \"ISM-Formula#2\":floral_fla}\n",
    "for name, fla in tcm_flas.items():\n",
    "    cpds_hit = len(set([x.cid for x in fla.ingrs])&set(top_cpds))\n",
    "    n_herbs = len(fla.herbs)\n",
    "    print(f\"Formula {name} contains {n_herbs} ingredients which feature {cpds_hit}/{len(top_cpds)} of selected compounds\")\n",
    "    for i,h in enumerate(fla.herbs[:4]):\n",
    "        common_name = h.synonyms[2].split(\", \")[0]\n",
    "        cpds_in_herb = len(set([x.cid for x in h.ingrs])&set(top_cpds))\n",
    "        print(f\"\\t{i+1}. {common_name} (carries {cpds_in_herb} ingredients)\")\n",
    "\n",
    "# Serialize the formulas before saving to a file\n",
    "tcm_flas = {\"TCM-ISM-1\":greedy_fla.serialize(),\n",
    "            \"TCM-ISM-2\":smol_fla.serialize(),\n",
    "            \"ISM-Formula#1\":floral_fla_full.serialize(),\n",
    "            \"ISM-Formula#2\":floral_fla.serialize()}\n",
    "with open('./all_formulas.json', 'w') as f:\n",
    "    json.dump(tcm_flas, f, indent=4)"
   ]
  },
  {
   "cell_type": "markdown",
   "id": "adff9592",
   "metadata": {},
   "source": [
    "# Applying agents to finalize the formula"
   ]
  },
  {
   "cell_type": "markdown",
   "id": "69d378f8",
   "metadata": {},
   "source": [
    "The descriptions for herbs and formulas in BATMAN-TCM2 are rather brief and do not provide a lot of context for how to mix the herbs or how they act, from the viewpoint of TCM.\n",
    "\n",
    "The Dragon-TCM database is much more fitting for such tasks and can be easily combined with LLM-based agents as a way to retrieve important information.\n",
    "\n"
   ]
  },
  {
   "cell_type": "code",
   "execution_count": 61,
   "id": "85630552",
   "metadata": {},
   "outputs": [
    {
     "name": "stdout",
     "output_type": "stream",
     "text": [
      "[+] 'REN SHEN' found in Dragon-TCM\n",
      "[+] 'MA HUANG' found in Dragon-TCM\n",
      "[+] 'CHA YE' found in Dragon-TCM\n",
      "[+] 'LV DOU' found in Dragon-TCM\n"
     ]
    }
   ],
   "source": [
    "# Retrieve the names of the herbs to be looked up in Dragon-TCM\n",
    "herb_annots = [x.pref_name for x in floral_fla.herbs]\n",
    "# Look up their counterparts in Dragon-TCM\n",
    "other_names = []\n",
    "name_mapper = con.cross_mappings['herbs'][('BATMAN', 'American Dragon')]\n",
    "for i in herb_annots:\n",
    "    if i in name_mapper:\n",
    "        other_names.append(name_mapper[i])\n",
    "        print(f\"[+] '{i.upper()}' found in Dragon-TCM\")\n",
    "    else:\n",
    "        print(f\"[-] '{i}' not found in Dragon-TCM\")\n",
    "# Prepare all information about the herbs for export\n",
    "herb_annots = [con.dbs['American Dragon'].herbs[x].serialize() for x in other_names]"
   ]
  },
  {
   "cell_type": "markdown",
   "id": "f1536097",
   "metadata": {},
   "source": [
    "You may now save these herbs in a separate file:"
   ]
  },
  {
   "cell_type": "code",
   "execution_count": 63,
   "id": "6811a13d",
   "metadata": {},
   "outputs": [],
   "source": [
    "with open('./herb_annots.json', 'w') as f:\n",
    "    json.dump(herb_annots, f, indent=4)"
   ]
  },
  {
   "cell_type": "markdown",
   "id": "4c765b06",
   "metadata": {},
   "source": [
    "*You may now proceed to the [next notebook](./2.TCMxPlore%20Agent%20Annotation.ipynb) in which we demonstrate how AI agents can be used to personalize such formulas*"
   ]
  }
 ],
 "metadata": {
  "kernelspec": {
   "display_name": "agents",
   "language": "python",
   "name": "agents"
  },
  "language_info": {
   "codemirror_mode": {
    "name": "ipython",
    "version": 3
   },
   "file_extension": ".py",
   "mimetype": "text/x-python",
   "name": "python",
   "nbconvert_exporter": "python",
   "pygments_lexer": "ipython3",
   "version": "3.12.7"
  }
 },
 "nbformat": 4,
 "nbformat_minor": 5
}
